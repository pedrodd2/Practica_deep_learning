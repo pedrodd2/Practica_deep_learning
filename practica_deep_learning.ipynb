{
  "nbformat": 4,
  "nbformat_minor": 0,
  "metadata": {
    "colab": {
      "provenance": [],
      "toc_visible": true,
      "collapsed_sections": [
        "Eeq9TWRom5fy",
        "0i4E88KjRLx7",
        "d84p-8mgmx86",
        "Cr2z9RarAvyg",
        "THsNtaPSBAYf",
        "jAClua0ZXiRr",
        "gkifgeRqlzC5",
        "D8zKwbvLQj-p",
        "uip2rJGqogfH"
      ]
    },
    "kernelspec": {
      "name": "python3",
      "display_name": "Python 3"
    },
    "language_info": {
      "name": "python"
    }
  },
  "cells": [
    {
      "cell_type": "markdown",
      "source": [
        "# 1. Descarga y preprocesado de datos"
      ],
      "metadata": {
        "id": "H5LAfGwCmFiI"
      }
    },
    {
      "cell_type": "markdown",
      "source": [
        "# 1.a. Imports y settings previos"
      ],
      "metadata": {
        "id": "Eeq9TWRom5fy"
      }
    },
    {
      "cell_type": "markdown",
      "source": [
        "En esta sección, vamos a recopilar los imports y settings que necesitaremos más adelante y los mantendremos aquí para que sean fácilmente accesibles."
      ],
      "metadata": {
        "id": "HnSAra90nB-g"
      }
    },
    {
      "cell_type": "code",
      "source": [
        "#Imports y settings previos\n",
        "import numpy as np\n",
        "import pandas as pd\n",
        "import tensorflow as tf\n",
        "from tensorflow.keras.models import Sequential\n",
        "from sklearn.metrics import classification_report\n",
        "from tensorflow.keras.layers import Dense, Flatten, Input, Conv2D\n",
        "from tensorflow.keras.optimizers import SGD\n",
        "import matplotlib.pyplot as plt\n",
        "from google.colab import drive\n",
        "from sklearn.preprocessing import LabelBinarizer\n",
        "from sklearn.preprocessing import MinMaxScaler\n",
        "import tensorflow as tf\n",
        "from tensorflow.keras import callbacks\n",
        "from tensorflow.keras import optimizers, Model\n",
        "from tensorflow.keras.layers import Dropout, Flatten, Dense\n",
        "from tensorflow.keras.optimizers import Adam\n",
        "from tensorflow.keras.preprocessing.image import ImageDataGenerator\n",
        "from tensorflow.keras.applications import VGG16\n",
        "from tensorflow.keras.datasets import cifar10\n",
        "from tensorflow.keras.utils import to_categorical\n",
        "from sklearn.model_selection import train_test_split\n",
        "from tensorflow.keras.layers import Dropout\n",
        "from tensorflow.keras.constraints import max_norm\n",
        "from tensorflow.keras.regularizers import l1_l2\n",
        "from tensorflow.keras.layers import BatchNormalization, Activation\n",
        "from tensorflow.keras.layers import GlobalMaxPooling2D, GlobalAveragePooling2D\n",
        "from tensorflow.keras.layers import concatenate\n",
        "import warnings\n",
        "warnings.filterwarnings('ignore')\n",
        "\n",
        "pd.set_option('display.max_rows', None) # para mostrar todas las filas\n",
        "pd.set_option('display.max_columns', None) # para mostrar todas las columnas\n",
        "drive.mount('/content/drive')"
      ],
      "metadata": {
        "colab": {
          "base_uri": "https://localhost:8080/"
        },
        "id": "OOy4r1r1TGey",
        "outputId": "d96dc71e-d5a5-4a30-d663-355d212be202"
      },
      "execution_count": null,
      "outputs": [
        {
          "output_type": "stream",
          "name": "stdout",
          "text": [
            "Drive already mounted at /content/drive; to attempt to forcibly remount, call drive.mount(\"/content/drive\", force_remount=True).\n"
          ]
        }
      ]
    },
    {
      "cell_type": "markdown",
      "source": [
        "# 1.b. Descarga de datos"
      ],
      "metadata": {
        "id": "0i4E88KjRLx7"
      }
    },
    {
      "cell_type": "markdown",
      "source": [
        "La descarga la realizamos con el codigo recogido en el siguiente colab \"practica_bajado_img.ipynb\" con ello obtuvimos los siguientes archivos\n",
        "\"filtered_data.csv\" y\n",
        "\"images_final.npy\"\"\n",
        "Los cuales guardamos en google drive, por lo que nuestro primer paso sera descargar estos archivos desde el drive al colab.\n"
      ],
      "metadata": {
        "id": "2xT6_GECTSXy"
      }
    },
    {
      "cell_type": "code",
      "source": [
        "\n",
        "saved_data = pd.read_csv(\"/content/drive/MyDrive/filtered_data.csv\", sep=';')\n",
        "saved_img = np.load(\"/content/drive/MyDrive/images_final.npy\")\n",
        "saved_data.shape, saved_img.shape"
      ],
      "metadata": {
        "colab": {
          "base_uri": "https://localhost:8080/"
        },
        "id": "WtZMzwlrVLFQ",
        "outputId": "aa48307a-0645-436d-a38c-525da02e6b64"
      },
      "execution_count": null,
      "outputs": [
        {
          "output_type": "execute_result",
          "data": {
            "text/plain": [
              "((1593, 11), (1593, 224, 224, 3))"
            ]
          },
          "metadata": {},
          "execution_count": 2
        }
      ]
    },
    {
      "cell_type": "markdown",
      "source": [
        "# 1.c. Creacion de las etiquetas"
      ],
      "metadata": {
        "id": "d84p-8mgmx86"
      }
    },
    {
      "cell_type": "markdown",
      "source": [
        "El objetivo de la practica es predecir el precio de la vivienda a partir de los datos del dataset. Para ello vamos a etiquetar los datos como baratos(aquellos los cuales tengan un precio inferior al 25% ), normales (aquellos cuyo precio este entre un 25% y un 50%) y caros(aquellos cuyo precio sea mayor que el 75%)"
      ],
      "metadata": {
        "id": "hOwxpqGOz3uo"
      }
    },
    {
      "cell_type": "code",
      "source": [
        "saved_data['Price'].hist(bins=100)"
      ],
      "metadata": {
        "colab": {
          "base_uri": "https://localhost:8080/",
          "height": 448
        },
        "id": "jfyFomQw2bxf",
        "outputId": "6ae081d3-1081-4cb8-9d02-4c78c61f349a"
      },
      "execution_count": null,
      "outputs": [
        {
          "output_type": "execute_result",
          "data": {
            "text/plain": [
              "<Axes: >"
            ]
          },
          "metadata": {},
          "execution_count": 3
        },
        {
          "output_type": "display_data",
          "data": {
            "text/plain": [
              "<Figure size 640x480 with 1 Axes>"
            ],
            "image/png": "[encoded data removed]"
          },
          "metadata": {}
        }
      ]
    },
    {
      "cell_type": "code",
      "source": [
        "saved_data['Price'].describe()"
      ],
      "metadata": {
        "colab": {
          "base_uri": "https://localhost:8080/"
        },
        "id": "8ltRjUYL2VRG",
        "outputId": "47d06840-88d3-4aae-a32d-9d245fd93295"
      },
      "execution_count": null,
      "outputs": [
        {
          "output_type": "execute_result",
          "data": {
            "text/plain": [
              "count    1593.000000\n",
              "mean       65.244821\n",
              "std        57.633571\n",
              "min        10.000000\n",
              "25%        30.000000\n",
              "50%        50.000000\n",
              "75%        80.000000\n",
              "max       579.000000\n",
              "Name: Price, dtype: float64"
            ]
          },
          "metadata": {},
          "execution_count": 4
        }
      ]
    },
    {
      "cell_type": "code",
      "source": [
        "# con la informacion anterior obtenemos los siguientes rangos\n",
        "y_class = []\n",
        "for y in saved_data['Price']:\n",
        "  if y <= saved_data['Price'].quantile(0.33):\n",
        "    y_class.append(0) # barato\n",
        "  elif saved_data['Price'].quantile(0.33) < y <= saved_data['Price'].quantile(0.66):\n",
        "    y_class.append(1) # normal\n",
        "  else:\n",
        "    y_class.append(2) # caro\n",
        "y_class = pd.Series(y_class)\n",
        "y_class.hist(bins=3)"
      ],
      "metadata": {
        "colab": {
          "base_uri": "https://localhost:8080/",
          "height": 448
        },
        "id": "RuOUWU8F2ex8",
        "outputId": "a29b1cb8-e763-4473-a496-32f2e140c41b"
      },
      "execution_count": null,
      "outputs": [
        {
          "output_type": "execute_result",
          "data": {
            "text/plain": [
              "<Axes: >"
            ]
          },
          "metadata": {},
          "execution_count": 5
        },
        {
          "output_type": "display_data",
          "data": {
            "text/plain": [
              "<Figure size 640x480 with 1 Axes>"
            ],
            "image/png": "[encoded data removed]"
          },
          "metadata": {}
        }
      ]
    },
    {
      "cell_type": "markdown",
      "source": [
        "Como se puede observar, vamos a tener más datos en las etiquetas de 'normales' que en las otras dos. Lo más académico sería tener la misma cantidad de muestras para cada etiqueta, lo cual podríamos hacer fácilmente. Sin embargo, vamos a dejarlo así porque nuestra intuición nos dice que si el modelo es capaz de detectar correctamente los precios normales, le será mucho más fácil predecir los extremos."
      ],
      "metadata": {
        "id": "wcncOTJ17Jyz"
      }
    },
    {
      "cell_type": "markdown",
      "source": [
        "# 1.d. Split de datos en train/val/test"
      ],
      "metadata": {
        "id": "Cr2z9RarAvyg"
      }
    },
    {
      "cell_type": "markdown",
      "source": [
        "Como se observa tendremos unos datos de test 15% del total y del 75 % restante volveremos a dividir un 15% para la validacion."
      ],
      "metadata": {
        "id": "zxwGwoi5oEnb"
      }
    },
    {
      "cell_type": "code",
      "source": [
        "\n",
        "# dividimos datos entre entranamiento y test\n",
        "data_train, data_test, img_train, img_test, y_train, y_test = train_test_split(saved_data,saved_img, y_class, test_size=0.15, shuffle=True, random_state=0)\n",
        "\n",
        "#dividimos datos de entrenamiento entre entrenamiento y validacion\n",
        "data_train, data_val, img_train, img_val, y_train, y_val = train_test_split(data_train,img_train, y_train, test_size=0.15, shuffle=True, random_state=0)\n"
      ],
      "metadata": {
        "id": "kVr9Grj3JbZG"
      },
      "execution_count": null,
      "outputs": []
    },
    {
      "cell_type": "markdown",
      "source": [
        "# 1.e. Normalizacion y redimensionamiento de datas numericos y categoricos\n",
        "\n"
      ],
      "metadata": {
        "id": "THsNtaPSBAYf"
      }
    },
    {
      "cell_type": "markdown",
      "source": [
        "En la practica anterior de machine learing ya hicimos una exploracion del data set y elgimos las columans relevantes. Para esta practica vamos a utilizar esta informacion y nos quedaremos solo con  las columnas de\n",
        "'Property Type', 'Room Type', 'Cancellation Policy', 'Bathrooms', 'Bedrooms',\n",
        "'Beds','Guests Included', 'Extra People', 'Number of\n",
        "Reviews'(para mas informacion de esta decision ver https://github.com/KeepCodingBDML11/machine-learning/blob/master/project/main.ipynb)"
      ],
      "metadata": {
        "id": "Wf41V4iFtNMC"
      }
    },
    {
      "cell_type": "code",
      "source": [
        "# Hacemos un drop de todas las columnas que OBVIAMENTE no aportan información relevante\n",
        "useful_columns = ['Property Type', 'Room Type', 'Cancellation Policy', 'Bathrooms', 'Bedrooms', 'Beds', 'Guests Included', 'Extra People', 'Number of Reviews']\n",
        "\n",
        "data_train = data_train[useful_columns]\n",
        "data_val = data_val[useful_columns]\n",
        "data_test = data_test[useful_columns]\n",
        "\n",
        "\n",
        "data_train.head().T"
      ],
      "metadata": {
        "colab": {
          "base_uri": "https://localhost:8080/",
          "height": 331
        },
        "id": "HCsjVeTIAbBj",
        "outputId": "e79aaf87-5294-445a-e65a-18916d203d4b"
      },
      "execution_count": null,
      "outputs": [
        {
          "output_type": "execute_result",
          "data": {
            "text/plain": [
              "                                1387             1275             137   \\\n",
              "Property Type              Apartment        Apartment  Bed & Breakfast   \n",
              "Room Type            Entire home/apt  Entire home/apt     Private room   \n",
              "Cancellation Policy           strict           strict           strict   \n",
              "Bathrooms                        1.0              1.0              2.0   \n",
              "Bedrooms                         1.0              0.0              1.0   \n",
              "Beds                             1.0              1.0              1.0   \n",
              "Guests Included                    2                1                1   \n",
              "Extra People                      12                0                0   \n",
              "Number of Reviews                 11                1                9   \n",
              "\n",
              "                             1179             163   \n",
              "Property Type           Apartment        Apartment  \n",
              "Room Type            Private room  Entire home/apt  \n",
              "Cancellation Policy      moderate         moderate  \n",
              "Bathrooms                     1.0              1.0  \n",
              "Bedrooms                      1.0              1.0  \n",
              "Beds                          1.0              2.0  \n",
              "Guests Included                 1                2  \n",
              "Extra People                   25                5  \n",
              "Number of Reviews               1               15  "
            ],
            "text/html": [
              "\n",
              "\n",
              "  <div id=\"df-121baa08-6989-4acd-9f4c-c601960c7ecf\">\n",
              "    <div class=\"colab-df-container\">\n",
              "      <div>\n",
              "<style scoped>\n",
              "    .dataframe tbody tr th:only-of-type {\n",
              "        vertical-align: middle;\n",
              "    }\n",
              "\n",
              "    .dataframe tbody tr th {\n",
              "        vertical-align: top;\n",
              "    }\n",
              "\n",
              "    .dataframe thead th {\n",
              "        text-align: right;\n",
              "    }\n",
              "</style>\n",
              "<table border=\"1\" class=\"dataframe\">\n",
              "  <thead>\n",
              "    <tr style=\"text-align: right;\">\n",
              "      <th></th>\n",
              "      <th>1387</th>\n",
              "      <th>1275</th>\n",
              "      <th>137</th>\n",
              "      <th>1179</th>\n",
              "      <th>163</th>\n",
              "    </tr>\n",
              "  </thead>\n",
              "  <tbody>\n",
              "    <tr>\n",
              "      <th>Property Type</th>\n",
              "      <td>Apartment</td>\n",
              "      <td>Apartment</td>\n",
              "      <td>Bed &amp; Breakfast</td>\n",
              "      <td>Apartment</td>\n",
              "      <td>Apartment</td>\n",
              "    </tr>\n",
              "    <tr>\n",
              "      <th>Room Type</th>\n",
              "      <td>Entire home/apt</td>\n",
              "      <td>Entire home/apt</td>\n",
              "      <td>Private room</td>\n",
              "      <td>Private room</td>\n",
              "      <td>Entire home/apt</td>\n",
              "    </tr>\n",
              "    <tr>\n",
              "      <th>Cancellation Policy</th>\n",
              "      <td>strict</td>\n",
              "      <td>strict</td>\n",
              "      <td>strict</td>\n",
              "      <td>moderate</td>\n",
              "      <td>moderate</td>\n",
              "    </tr>\n",
              "    <tr>\n",
              "      <th>Bathrooms</th>\n",
              "      <td>1.0</td>\n",
              "      <td>1.0</td>\n",
              "      <td>2.0</td>\n",
              "      <td>1.0</td>\n",
              "      <td>1.0</td>\n",
              "    </tr>\n",
              "    <tr>\n",
              "      <th>Bedrooms</th>\n",
              "      <td>1.0</td>\n",
              "      <td>0.0</td>\n",
              "      <td>1.0</td>\n",
              "      <td>1.0</td>\n",
              "      <td>1.0</td>\n",
              "    </tr>\n",
              "    <tr>\n",
              "      <th>Beds</th>\n",
              "      <td>1.0</td>\n",
              "      <td>1.0</td>\n",
              "      <td>1.0</td>\n",
              "      <td>1.0</td>\n",
              "      <td>2.0</td>\n",
              "    </tr>\n",
              "    <tr>\n",
              "      <th>Guests Included</th>\n",
              "      <td>2</td>\n",
              "      <td>1</td>\n",
              "      <td>1</td>\n",
              "      <td>1</td>\n",
              "      <td>2</td>\n",
              "    </tr>\n",
              "    <tr>\n",
              "      <th>Extra People</th>\n",
              "      <td>12</td>\n",
              "      <td>0</td>\n",
              "      <td>0</td>\n",
              "      <td>25</td>\n",
              "      <td>5</td>\n",
              "    </tr>\n",
              "    <tr>\n",
              "      <th>Number of Reviews</th>\n",
              "      <td>11</td>\n",
              "      <td>1</td>\n",
              "      <td>9</td>\n",
              "      <td>1</td>\n",
              "      <td>15</td>\n",
              "    </tr>\n",
              "  </tbody>\n",
              "</table>\n",
              "</div>\n",
              "      <button class=\"colab-df-convert\" onclick=\"convertToInteractive('df-121baa08-6989-4acd-9f4c-c601960c7ecf')\"\n",
              "              title=\"Convert this dataframe to an interactive table.\"\n",
              "              style=\"display:none;\">\n",
              "\n",
              "  <svg xmlns=\"http://www.w3.org/2000/svg\" height=\"24px\"viewBox=\"0 0 24 24\"\n",
              "       width=\"24px\">\n",
              "    <path d=\"M0 0h24v24H0V0z\" fill=\"none\"/>\n",
              "    <path d=\"M18.56 5.44l.94 2.06.94-2.06 2.06-.94-2.06-.94-.94-2.06-.94 2.06-2.06.94zm-11 1L8.5 8.5l.94-2.06 2.06-.94-2.06-.94L8.5 2.5l-.94 2.06-2.06.94zm10 10l.94 2.06.94-2.06 2.06-.94-2.06-.94-.94-2.06-.94 2.06-2.06.94z\"/><path d=\"M17.41 7.96l-1.37-1.37c-.4-.4-.92-.59-1.43-.59-.52 0-1.04.2-1.43.59L10.3 9.45l-7.72 7.72c-.78.78-.78 2.05 0 2.83L4 21.41c.39.39.9.59 1.41.59.51 0 1.02-.2 1.41-.59l7.78-7.78 2.81-2.81c.8-.78.8-2.07 0-2.86zM5.41 20L4 18.59l7.72-7.72 1.47 1.35L5.41 20z\"/>\n",
              "  </svg>\n",
              "      </button>\n",
              "\n",
              "\n",
              "\n",
              "    <div id=\"df-948116d7-8e3d-4587-b0d6-9f1264208aa9\">\n",
              "      <button class=\"colab-df-quickchart\" onclick=\"quickchart('df-948116d7-8e3d-4587-b0d6-9f1264208aa9')\"\n",
              "              title=\"Suggest charts.\"\n",
              "              style=\"display:none;\">\n",
              "\n",
              "<svg xmlns=\"http://www.w3.org/2000/svg\" height=\"24px\"viewBox=\"0 0 24 24\"\n",
              "     width=\"24px\">\n",
              "    <g>\n",
              "        <path d=\"M19 3H5c-1.1 0-2 .9-2 2v14c0 1.1.9 2 2 2h14c1.1 0 2-.9 2-2V5c0-1.1-.9-2-2-2zM9 17H7v-7h2v7zm4 0h-2V7h2v10zm4 0h-2v-4h2v4z\"/>\n",
              "    </g>\n",
              "</svg>\n",
              "      </button>\n",
              "    </div>\n",
              "\n",
              "<style>\n",
              "  .colab-df-quickchart {\n",
              "    background-color: #E8F0FE;\n",
              "    border: none;\n",
              "    border-radius: 50%;\n",
              "    cursor: pointer;\n",
              "    display: none;\n",
              "    fill: #1967D2;\n",
              "    height: 32px;\n",
              "    padding: 0 0 0 0;\n",
              "    width: 32px;\n",
              "  }\n",
              "\n",
              "  .colab-df-quickchart:hover {\n",
              "    background-color: #E2EBFA;\n",
              "    box-shadow: 0px 1px 2px rgba(60, 64, 67, 0.3), 0px 1px 3px 1px rgba(60, 64, 67, 0.15);\n",
              "    fill: #174EA6;\n",
              "  }\n",
              "\n",
              "  [theme=dark] .colab-df-quickchart {\n",
              "    background-color: #3B4455;\n",
              "    fill: #D2E3FC;\n",
              "  }\n",
              "\n",
              "  [theme=dark] .colab-df-quickchart:hover {\n",
              "    background-color: #434B5C;\n",
              "    box-shadow: 0px 1px 3px 1px rgba(0, 0, 0, 0.15);\n",
              "    filter: drop-shadow(0px 1px 2px rgba(0, 0, 0, 0.3));\n",
              "    fill: #FFFFFF;\n",
              "  }\n",
              "</style>\n",
              "\n",
              "    <script>\n",
              "      async function quickchart(key) {\n",
              "        const containerElement = document.querySelector('#' + key);\n",
              "        const charts = await google.colab.kernel.invokeFunction(\n",
              "            'suggestCharts', [key], {});\n",
              "      }\n",
              "    </script>\n",
              "\n",
              "      <script>\n",
              "\n",
              "function displayQuickchartButton(domScope) {\n",
              "  let quickchartButtonEl =\n",
              "    domScope.querySelector('#df-948116d7-8e3d-4587-b0d6-9f1264208aa9 button.colab-df-quickchart');\n",
              "  quickchartButtonEl.style.display =\n",
              "    google.colab.kernel.accessAllowed ? 'block' : 'none';\n",
              "}\n",
              "\n",
              "        displayQuickchartButton(document);\n",
              "      </script>\n",
              "      <style>\n",
              "    .colab-df-container {\n",
              "      display:flex;\n",
              "      flex-wrap:wrap;\n",
              "      gap: 12px;\n",
              "    }\n",
              "\n",
              "    .colab-df-convert {\n",
              "      background-color: #E8F0FE;\n",
              "      border: none;\n",
              "      border-radius: 50%;\n",
              "      cursor: pointer;\n",
              "      display: none;\n",
              "      fill: #1967D2;\n",
              "      height: 32px;\n",
              "      padding: 0 0 0 0;\n",
              "      width: 32px;\n",
              "    }\n",
              "\n",
              "    .colab-df-convert:hover {\n",
              "      background-color: #E2EBFA;\n",
              "      box-shadow: 0px 1px 2px rgba(60, 64, 67, 0.3), 0px 1px 3px 1px rgba(60, 64, 67, 0.15);\n",
              "      fill: #174EA6;\n",
              "    }\n",
              "\n",
              "    [theme=dark] .colab-df-convert {\n",
              "      background-color: #3B4455;\n",
              "      fill: #D2E3FC;\n",
              "    }\n",
              "\n",
              "    [theme=dark] .colab-df-convert:hover {\n",
              "      background-color: #434B5C;\n",
              "      box-shadow: 0px 1px 3px 1px rgba(0, 0, 0, 0.15);\n",
              "      filter: drop-shadow(0px 1px 2px rgba(0, 0, 0, 0.3));\n",
              "      fill: #FFFFFF;\n",
              "    }\n",
              "  </style>\n",
              "\n",
              "      <script>\n",
              "        const buttonEl =\n",
              "          document.querySelector('#df-121baa08-6989-4acd-9f4c-c601960c7ecf button.colab-df-convert');\n",
              "        buttonEl.style.display =\n",
              "          google.colab.kernel.accessAllowed ? 'block' : 'none';\n",
              "\n",
              "        async function convertToInteractive(key) {\n",
              "          const element = document.querySelector('#df-121baa08-6989-4acd-9f4c-c601960c7ecf');\n",
              "          const dataTable =\n",
              "            await google.colab.kernel.invokeFunction('convertToInteractive',\n",
              "                                                     [key], {});\n",
              "          if (!dataTable) return;\n",
              "\n",
              "          const docLinkHtml = 'Like what you see? Visit the ' +\n",
              "            '<a target=\"_blank\" href=https://colab.research.google.com/notebooks/data_table.ipynb>data table notebook</a>'\n",
              "            + ' to learn more about interactive tables.';\n",
              "          element.innerHTML = '';\n",
              "          dataTable['output_type'] = 'display_data';\n",
              "          await google.colab.output.renderOutput(dataTable, element);\n",
              "          const docLink = document.createElement('div');\n",
              "          docLink.innerHTML = docLinkHtml;\n",
              "          element.appendChild(docLink);\n",
              "        }\n",
              "      </script>\n",
              "    </div>\n",
              "  </div>\n"
            ]
          },
          "metadata": {},
          "execution_count": 7
        }
      ]
    },
    {
      "cell_type": "markdown",
      "source": [
        "Ahora pasamos a la normalizacion de los datos(copiamos de https://pyimagesearch.com/2019/01/21/regression-with-keras/). Primero normalizamos los datos continuos que corresponden a valores numericos que van aumentando progresivamente."
      ],
      "metadata": {
        "id": "SOYfPcT0uATr"
      }
    },
    {
      "cell_type": "code",
      "source": [
        "# initialize the column names of the continuous data\n",
        "continuous = ['Bathrooms', 'Bedrooms', 'Beds', 'Guests Included', 'Extra People', 'Number of Reviews']\n",
        "# performin min-max scaling each continuous feature column to\n",
        "# the range [0, 1]\n",
        "cs = MinMaxScaler()\n",
        "train_continuous = cs.fit_transform(data_train[continuous])\n",
        "val_continuous = cs.fit_transform(data_val[continuous])\n",
        "test_continuous = cs.fit_transform(data_test[continuous])\n",
        "\n"
      ],
      "metadata": {
        "id": "9gQW-X2BD4ct"
      },
      "execution_count": null,
      "outputs": []
    },
    {
      "cell_type": "markdown",
      "source": [
        "Ahora pasamos a one hot encoding los datos categoricos que son \"Property Type\" \"Room Type\" y \"Cancellation Policy\""
      ],
      "metadata": {
        "id": "pdHQRiY6pvUR"
      }
    },
    {
      "cell_type": "code",
      "source": [
        "# one-hot encode the zip code categorical data (by definition of\n",
        "# one-hot encoing, all output features are now in the range [0, 1])\n",
        "zipBinarizer_1 = LabelBinarizer().fit(saved_data[\"Property Type\"])\n",
        "train_categorical_1 = zipBinarizer_1.transform(data_train[\"Property Type\"])\n",
        "val_categorical_1 = zipBinarizer_1.transform(data_val[\"Property Type\"])\n",
        "test_categorical_1 = zipBinarizer_1.transform(data_test[\"Property Type\"])\n",
        "\n",
        "\n",
        "zipBinarizer_2 = LabelBinarizer().fit(saved_data[\"Room Type\"])\n",
        "train_categorical_2 = zipBinarizer_2.transform(data_train[\"Room Type\"])\n",
        "val_categorical_2 = zipBinarizer_2.transform(data_val[\"Room Type\"])\n",
        "test_categorical_2 = zipBinarizer_2.transform(data_test[\"Room Type\"])\n",
        "\n",
        "zipBinarizer_3 = LabelBinarizer().fit(saved_data[\"Cancellation Policy\"])\n",
        "train_categorical_3 = zipBinarizer_3.transform(data_train[\"Cancellation Policy\"])\n",
        "val_categorical_3 = zipBinarizer_3.transform(data_val[\"Cancellation Policy\"])\n",
        "test_categorical_3 = zipBinarizer_3.transform(data_test[\"Cancellation Policy\"])\n",
        "\n",
        "\n"
      ],
      "metadata": {
        "id": "sOe4kX3uEez7"
      },
      "execution_count": null,
      "outputs": []
    },
    {
      "cell_type": "markdown",
      "source": [
        "A continuacion volvemos a unir todos los datos en un solo dataframe"
      ],
      "metadata": {
        "id": "cb3r6KOwqFwE"
      }
    },
    {
      "cell_type": "code",
      "source": [
        "# construct our training and testing data points by concatenating\n",
        "# the categorical features with the continuous features\n",
        "data_train_x = np.hstack([train_categorical_1, train_categorical_2, train_categorical_3, train_continuous])\n",
        "data_val_x = np.hstack([val_categorical_1, val_categorical_2, val_categorical_3, val_continuous])\n",
        "data_test_x = np.hstack([test_categorical_1, test_categorical_2, test_categorical_3, test_continuous])\n"
      ],
      "metadata": {
        "id": "u1zX08pW4NtD"
      },
      "execution_count": null,
      "outputs": []
    },
    {
      "cell_type": "markdown",
      "source": [
        "Pasamos los datos de numpys a tensores(que es como lo vamos a necesitar mas tarde para poder trabajar con redes neuronales)"
      ],
      "metadata": {
        "id": "AT1q1ra-qYDh"
      }
    },
    {
      "cell_type": "code",
      "source": [
        "data_train_x = tf.Variable(data_train_x)\n",
        "data_val_x = tf.Variable(data_val_x)\n",
        "data_test_x = tf.Variable(data_test_x)"
      ],
      "metadata": {
        "id": "AqFfhWUSMZdq"
      },
      "execution_count": null,
      "outputs": []
    },
    {
      "cell_type": "markdown",
      "source": [
        "Ahora normalizamos las etiquetas"
      ],
      "metadata": {
        "id": "eLMPMTBqqvJX"
      }
    },
    {
      "cell_type": "code",
      "source": [
        "\n",
        "#Normalizamos las etiquetas y las ponemos en el mismo formato\n",
        "#Datos a one-hot-encoding\n",
        "y_train = tf.one_hot(y_train, depth=3)\n",
        "y_val = tf.one_hot(y_val, depth=3)\n",
        "y_test = tf.one_hot(y_test, depth=3)\n",
        "\n",
        "#Datos en el mismo formato\n",
        "y_train = tf.cast(y_train, 'float64')\n",
        "y_val= tf.cast(y_val, 'float64') # o \"double\" si surgen problemas\n",
        "y_test = tf.cast(y_test, 'float64')\n",
        "\n",
        "\n"
      ],
      "metadata": {
        "id": "lVxwxqwp9OeX"
      },
      "execution_count": null,
      "outputs": []
    },
    {
      "cell_type": "markdown",
      "source": [
        "Vamos a realizar un reescalado de las imagenes para hacerlas mas pequeñas con el objetivo de hacer nuestros modelos mas livianos y mas facilmente entrenables"
      ],
      "metadata": {
        "id": "IO7gznF5QHLS"
      }
    },
    {
      "cell_type": "code",
      "source": [
        "# creamos el modelo base\n",
        "input_shape = (48, 48, 3)\n",
        " # resize train set\n",
        "X_train_resized = []\n",
        "for img in img_train:\n",
        "  X_train_resized.append(np.resize(img, input_shape))\n",
        "\n",
        "X_train_resized = tf.Variable(X_train_resized)\n",
        "\n",
        "# resize val set\n",
        "X_val_resized = []\n",
        "for img in img_val:\n",
        "  X_val_resized.append(np.resize(img, input_shape))\n",
        "\n",
        "#X_val_resized = np.array(X_val_resized)\n",
        "X_val_resized = tf.Variable(X_val_resized)\n",
        "\n",
        "# resize val set\n",
        "X_test_resized = []\n",
        "for img in img_test:\n",
        "  X_test_resized.append(np.resize(img, input_shape))\n",
        "\n",
        "X_test_resized = tf.Variable(X_test_resized)\n"
      ],
      "metadata": {
        "id": "pU5BmnZLahP1"
      },
      "execution_count": null,
      "outputs": []
    },
    {
      "cell_type": "markdown",
      "source": [
        "A continuacion realizamos un pequeno chequeo de dimensiones de las matrices ya que si esto no esta correcto es el primer fallo que daran nuestros modelos"
      ],
      "metadata": {
        "id": "My9WvCOYq1p0"
      }
    },
    {
      "cell_type": "code",
      "source": [
        "#chequeo dimensiones\n",
        "print(f\"Datos de entreno, Datos tabularess= {data_train_x.shape}, Datos de imagenes{img_train.shape} y {X_train_resized.shape}, Resultados={y_train.shape}\")\n",
        "\n",
        "print(f\"Datos de validacion, Datos tabularess= {data_val_x.shape}, Datos de imagenes{img_val.shape} y {X_val_resized.shape}, Resultados={y_val.shape}\")\n",
        "\n",
        "print(f\"Datos de test, Datos tabularess= {data_test_x.shape}, Datos de imagenes{img_test.shape} y {X_test_resized.shape}, Resultados={y_test.shape}\")\n"
      ],
      "metadata": {
        "colab": {
          "base_uri": "https://localhost:8080/"
        },
        "id": "-PgEiXwJUbeQ",
        "outputId": "b0af2334-530e-40e3-edec-5e57f639bcc1"
      },
      "execution_count": null,
      "outputs": [
        {
          "output_type": "stream",
          "name": "stdout",
          "text": [
            "Datos de entreno, Datos tabularess= (1150, 24), Datos de imagenes(1150, 224, 224, 3) y (1150, 48, 48, 3), Resultados=(1150, 3)\n",
            "Datos de validacion, Datos tabularess= (204, 24), Datos de imagenes(204, 224, 224, 3) y (204, 48, 48, 3), Resultados=(204, 3)\n",
            "Datos de test, Datos tabularess= (239, 24), Datos de imagenes(239, 224, 224, 3) y (239, 48, 48, 3), Resultados=(239, 3)\n"
          ]
        }
      ]
    },
    {
      "cell_type": "markdown",
      "source": [
        "# 2. MODELADO"
      ],
      "metadata": {
        "id": "1dqWeBp_XT6g"
      }
    },
    {
      "cell_type": "markdown",
      "source": [
        "# 2.a. Modelado datos tabulares"
      ],
      "metadata": {
        "id": "jAClua0ZXiRr"
      }
    },
    {
      "cell_type": "markdown",
      "source": [
        "En el siguiente modelo se han utilizado dos capas dense  relu y una ultima de salida tambien dense con salida softmax. Los resultados obtenidos son de un 70% en test lo que consideramos bastante aceptable dado los pocos datos(apenas mil) de lo que le hemos dado a la red para entrenar.\n",
        "Se ha ido cambiando manualmente los hiperparametros de la red, observando una gran dependencia con el learning rate."
      ],
      "metadata": {
        "id": "KFyw-a6QQiR-"
      }
    },
    {
      "cell_type": "code",
      "source": [
        "\n",
        "# definimos la función para entrenar nuestra red con los parámetros deseados\n",
        "def train_deep_net_1( learning_rate, lr_decay, batch_size, num_epochs):\n",
        "\n",
        "  # Implementamos la red empleando Keras\n",
        "  model = Sequential()\n",
        "  model.add(Flatten())\n",
        "  model.add(Dense(20, activation=\"relu\"))\n",
        "  model.add(Dense(10, activation=\"relu\"))\n",
        "  model.add(Dense(3, activation=\"softmax\"))\n",
        "\n",
        "  # Compilamos y entrenamos el modelo SGD\n",
        "  print(\"[INFO]: Entrenando red neuronal...\")\n",
        "  lr_schedule = tf.keras.optimizers.schedules.InverseTimeDecay(\n",
        "      initial_learning_rate=learning_rate,\n",
        "      decay_steps=1,\n",
        "      decay_rate=lr_decay\n",
        "  )\n",
        "  opt = tf.keras.optimizers.SGD(learning_rate=learning_rate)\n",
        "  model.compile(loss=\"categorical_crossentropy\", optimizer=opt, metrics=[\"accuracy\"])  #(X)\n",
        "\n",
        "  # Entrenando la solución\n",
        "  H = model.fit(data_train_x, y_train, validation_data=(data_val_x, y_val), epochs=num_epochs, batch_size=batch_size)  #(X)\n",
        "\n",
        "  # Evaluando el modelo de predicción con las imágenes de test\n",
        "  print(\"[INFO]: Evaluando red neuronal...\")\n",
        "  predictions = model.predict(data_test_x, batch_size=batch_size)\n",
        "  y_test_labels = np.argmax(y_test, axis=1)\n",
        "  predictions_labels = np.argmax(predictions, axis=1)\n",
        "  print(classification_report(y_test_labels, predictions_labels))\n",
        "\n",
        "  # Muestro gráfica de accuracy y losses\n",
        "  plt.style.use(\"ggplot\")\n",
        "  plt.figure()\n",
        "  plt.plot(np.arange(0, num_epochs), H.history[\"loss\"], label=\"train_loss\")\n",
        "  plt.plot(np.arange(0, num_epochs), H.history[\"val_loss\"], label=\"val_loss\")\n",
        "  plt.plot(np.arange(0, num_epochs), H.history[\"accuracy\"], label=\"train_acc\")\n",
        "  plt.plot(np.arange(0, num_epochs), H.history[\"val_accuracy\"], label=\"val_acc\")\n",
        "  plt.title(\"Training Loss and Accuracy\")\n",
        "  plt.xlabel(\"Epoch #\")\n",
        "  plt.ylabel(\"Loss/Accuracy\")\n",
        "  plt.legend()"
      ],
      "metadata": {
        "id": "bNiI5YjFXZzE"
      },
      "execution_count": null,
      "outputs": []
    },
    {
      "cell_type": "code",
      "source": [
        "\n",
        "learning_rate = 0.3\n",
        "lr_decay = 1e-3\n",
        "num_epochs = 30\n",
        "batch_size = 128\n",
        "train_deep_net_1( learning_rate,lr_decay, batch_size, num_epochs)"
      ],
      "metadata": {
        "colab": {
          "base_uri": "https://localhost:8080/",
          "height": 1000
        },
        "id": "zK4sgxc3IOGl",
        "outputId": "8e3ae415-fc60-4e07-92f7-867d3f78cbcb"
      },
      "execution_count": null,
      "outputs": [
        {
          "output_type": "stream",
          "name": "stdout",
          "text": [
            "[INFO]: Entrenando red neuronal...\n",
            "Epoch 1/30\n",
            "9/9 [==============================] - 1s 15ms/step - loss: 1.1035 - accuracy: 0.3287 - val_loss: 1.0796 - val_accuracy: 0.5343\n",
            "Epoch 2/30\n",
            "9/9 [==============================] - 0s 2ms/step - loss: 1.0689 - accuracy: 0.4983 - val_loss: 1.0306 - val_accuracy: 0.6176\n",
            "Epoch 3/30\n",
            "9/9 [==============================] - 0s 2ms/step - loss: 1.0037 - accuracy: 0.5826 - val_loss: 0.9241 - val_accuracy: 0.6520\n",
            "Epoch 4/30\n",
            "9/9 [==============================] - 0s 2ms/step - loss: 0.9129 - accuracy: 0.6139 - val_loss: 0.8394 - val_accuracy: 0.6520\n",
            "Epoch 5/30\n",
            "9/9 [==============================] - 0s 2ms/step - loss: 0.8539 - accuracy: 0.6148 - val_loss: 0.7980 - val_accuracy: 0.6373\n",
            "Epoch 6/30\n",
            "9/9 [==============================] - 0s 2ms/step - loss: 0.8226 - accuracy: 0.6096 - val_loss: 0.7739 - val_accuracy: 0.6373\n",
            "Epoch 7/30\n",
            "9/9 [==============================] - 0s 2ms/step - loss: 0.8048 - accuracy: 0.6139 - val_loss: 0.7618 - val_accuracy: 0.6373\n",
            "Epoch 8/30\n",
            "9/9 [==============================] - 0s 4ms/step - loss: 0.7949 - accuracy: 0.6130 - val_loss: 0.7531 - val_accuracy: 0.6373\n",
            "Epoch 9/30\n",
            "9/9 [==============================] - 0s 2ms/step - loss: 0.7887 - accuracy: 0.6148 - val_loss: 0.7487 - val_accuracy: 0.6373\n",
            "Epoch 10/30\n",
            "9/9 [==============================] - 0s 4ms/step - loss: 0.7831 - accuracy: 0.6191 - val_loss: 0.7442 - val_accuracy: 0.6275\n",
            "Epoch 11/30\n",
            "9/9 [==============================] - 0s 3ms/step - loss: 0.7742 - accuracy: 0.6235 - val_loss: 0.7385 - val_accuracy: 0.6324\n",
            "Epoch 12/30\n",
            "9/9 [==============================] - 0s 2ms/step - loss: 0.7668 - accuracy: 0.6313 - val_loss: 0.7233 - val_accuracy: 0.6471\n",
            "Epoch 13/30\n",
            "9/9 [==============================] - 0s 2ms/step - loss: 0.7619 - accuracy: 0.6426 - val_loss: 0.7182 - val_accuracy: 0.6814\n",
            "Epoch 14/30\n",
            "9/9 [==============================] - 0s 5ms/step - loss: 0.7632 - accuracy: 0.6530 - val_loss: 0.7343 - val_accuracy: 0.6373\n",
            "Epoch 15/30\n",
            "9/9 [==============================] - 0s 2ms/step - loss: 0.7508 - accuracy: 0.6496 - val_loss: 0.7203 - val_accuracy: 0.6422\n",
            "Epoch 16/30\n",
            "9/9 [==============================] - 0s 3ms/step - loss: 0.7509 - accuracy: 0.6522 - val_loss: 0.7127 - val_accuracy: 0.6667\n",
            "Epoch 17/30\n",
            "9/9 [==============================] - 0s 3ms/step - loss: 0.7703 - accuracy: 0.6391 - val_loss: 0.7118 - val_accuracy: 0.6863\n",
            "Epoch 18/30\n",
            "9/9 [==============================] - 0s 3ms/step - loss: 0.7438 - accuracy: 0.6617 - val_loss: 0.7123 - val_accuracy: 0.6471\n",
            "Epoch 19/30\n",
            "9/9 [==============================] - 0s 2ms/step - loss: 0.7282 - accuracy: 0.6626 - val_loss: 0.7012 - val_accuracy: 0.6912\n",
            "Epoch 20/30\n",
            "9/9 [==============================] - 0s 2ms/step - loss: 0.7338 - accuracy: 0.6574 - val_loss: 0.7050 - val_accuracy: 0.6863\n",
            "Epoch 21/30\n",
            "9/9 [==============================] - 0s 2ms/step - loss: 0.7187 - accuracy: 0.6661 - val_loss: 0.6975 - val_accuracy: 0.6863\n",
            "Epoch 22/30\n",
            "9/9 [==============================] - 0s 3ms/step - loss: 0.7505 - accuracy: 0.6591 - val_loss: 0.7063 - val_accuracy: 0.6912\n",
            "Epoch 23/30\n",
            "9/9 [==============================] - 0s 3ms/step - loss: 0.7231 - accuracy: 0.6757 - val_loss: 0.7197 - val_accuracy: 0.6863\n",
            "Epoch 24/30\n",
            "9/9 [==============================] - 0s 2ms/step - loss: 0.7134 - accuracy: 0.6835 - val_loss: 0.7754 - val_accuracy: 0.6422\n",
            "Epoch 25/30\n",
            "9/9 [==============================] - 0s 3ms/step - loss: 0.7235 - accuracy: 0.6757 - val_loss: 0.7091 - val_accuracy: 0.6863\n",
            "Epoch 26/30\n",
            "9/9 [==============================] - 0s 2ms/step - loss: 0.7166 - accuracy: 0.6678 - val_loss: 0.6987 - val_accuracy: 0.6912\n",
            "Epoch 27/30\n",
            "9/9 [==============================] - 0s 2ms/step - loss: 0.7452 - accuracy: 0.6530 - val_loss: 0.6946 - val_accuracy: 0.7010\n",
            "Epoch 28/30\n",
            "9/9 [==============================] - 0s 2ms/step - loss: 0.7109 - accuracy: 0.6748 - val_loss: 0.6922 - val_accuracy: 0.6961\n",
            "Epoch 29/30\n",
            "9/9 [==============================] - 0s 3ms/step - loss: 0.7075 - accuracy: 0.6730 - val_loss: 0.7013 - val_accuracy: 0.6961\n",
            "Epoch 30/30\n",
            "9/9 [==============================] - 0s 3ms/step - loss: 0.7069 - accuracy: 0.6722 - val_loss: 0.7302 - val_accuracy: 0.6863\n",
            "[INFO]: Evaluando red neuronal...\n",
            "2/2 [==============================] - 0s 3ms/step\n",
            "              precision    recall  f1-score   support\n",
            "\n",
            "           0       0.76      0.98      0.86        89\n",
            "           1       0.65      0.24      0.35        71\n",
            "           2       0.67      0.84      0.74        79\n",
            "\n",
            "    accuracy                           0.71       239\n",
            "   macro avg       0.69      0.68      0.65       239\n",
            "weighted avg       0.70      0.71      0.67       239\n",
            "\n"
          ]
        },
        {
          "output_type": "display_data",
          "data": {
            "text/plain": [
              "<Figure size 640x480 with 1 Axes>"
            ],
            "image/png": "[encoded data removed]"
          },
          "metadata": {}
        }
      ]
    },
    {
      "cell_type": "markdown",
      "source": [
        "# 2.b. Modelo para imagenes con redes convolucionales preentenadas"
      ],
      "metadata": {
        "id": "gkifgeRqlzC5"
      }
    },
    {
      "cell_type": "markdown",
      "source": [
        "A continuacion mostramos varios modelos donde no hemos podido conseguir que entrenara la red mas alla de ir a por la solucion mas probable, es decir nuestra red ante 3 tipos distintos de salida solo elegia 1 y asi se aseguraba el 33% de accuracy, hemos probado en el etiquetado de los datos modificar la cantidad haciendo un split de 50% 25% 25% y el comportamiento era identico siempre decia que era el split del 50% y nunca las otras dos categorias"
      ],
      "metadata": {
        "id": "LEhdQ3XsaqBb"
      }
    },
    {
      "cell_type": "markdown",
      "source": [
        "Se han intentado diferentes hiperparametros asi como tambien hemos realizado finetuning desbloqueando diferentes capas y siempre hemos obtenido los resultados anteriores."
      ],
      "metadata": {
        "id": "FETnCZWUcxV_"
      }
    },
    {
      "cell_type": "code",
      "source": [
        "# definimos la función para entrenar nuestra red convolucional con los parámetros deseados\n",
        "def train_conv_net_1( learning_rate, lr_decay, batch_size, num_epochs):\n",
        "  # creamos el modelo base\n",
        "  input_shape = (224, 224, 3)\n",
        "  base_model = VGG16(weights=\"imagenet\", include_top=False, input_shape=input_shape)\n",
        "  # permitimos que, además de la etapa de clasificación, se entrenen también el\n",
        "  # último bloque convolucional\n",
        "  for layer in base_model.layers:\n",
        "    layer.trainable = False\n",
        "    if layer.name == \"block5_conv3\":\n",
        "      layer.trainable = True\n",
        "  # cogemos la última capa del model y le añadimos nuestro clasificador (top_model)\n",
        "  last = base_model.layers[-1].output\n",
        "  x = Flatten()(last)\n",
        "  x = Dense(1000, activation='relu', name='fc1')(x)\n",
        "  x = Dropout(0.3)(x)\n",
        "  x = Dense(3, activation='softmax', name='predictions')(x)\n",
        "  model = Model(base_model.input, x)\n",
        "\n",
        "  # compilamos el modelo\n",
        "  opt = tf.keras.optimizers.SGD(learning_rate=learning_rate)\n",
        "  model.compile(optimizer=opt, loss='categorical_crossentropy', metrics=['accuracy'])\n",
        "  # entrenamos el modelo\n",
        "  H = model.fit(img_train, y_train,batch_size=batch_size, validation_data=(img_val, y_val), epochs=num_epochs)\n",
        "  # Evaluando el modelo de predicción con las imágenes de test\n",
        "  print(\"[INFO]: Evaluando red neuronal...\")\n",
        "  predictions = model.predict(img_test, batch_size=batch_size)\n",
        "  y_test_labels = np.argmax(y_test, axis=1)\n",
        "  predictions_labels = np.argmax(predictions, axis=1)\n",
        "  print(classification_report(y_test_labels, predictions_labels))\n",
        "\n",
        "  # Muestro gráfica de accuracy y losses\n",
        "  plt.style.use(\"ggplot\")\n",
        "  plt.figure()\n",
        "  plt.plot(np.arange(0, num_epochs), H.history[\"loss\"], label=\"train_loss\")\n",
        "  plt.plot(np.arange(0, num_epochs), H.history[\"val_loss\"], label=\"val_loss\")\n",
        "  plt.plot(np.arange(0, num_epochs), H.history[\"accuracy\"], label=\"train_acc\")\n",
        "  plt.plot(np.arange(0, num_epochs), H.history[\"val_accuracy\"], label=\"val_acc\")\n",
        "  plt.title(\"Training Loss and Accuracy\")\n",
        "  plt.xlabel(\"Epoch #\")\n",
        "  plt.ylabel(\"Loss/Accuracy\")\n",
        "  plt.legend()\n"
      ],
      "metadata": {
        "id": "2jE68_kbl_Fq"
      },
      "execution_count": null,
      "outputs": []
    },
    {
      "cell_type": "code",
      "source": [
        "\n",
        "learning_rate = 0.1\n",
        "lr_decay = 1e-3\n",
        "num_epochs = 5\n",
        "batch_size = 128\n",
        "#train_conv_net_1( learning_rate,lr_decay, batch_size, num_epochs)"
      ],
      "metadata": {
        "colab": {
          "base_uri": "https://localhost:8080/",
          "height": 337
        },
        "id": "Pp9tpH3JBdvl",
        "outputId": "8b29877a-2481-4023-d8a5-80eb4c479d67"
      },
      "execution_count": null,
      "outputs": [
        {
          "output_type": "error",
          "ename": "NameError",
          "evalue": "ignored",
          "traceback": [
            "\u001b[0;31m---------------------------------------------------------------------------\u001b[0m",
            "\u001b[0;31mNameError\u001b[0m                                 Traceback (most recent call last)",
            "\u001b[0;32m<ipython-input-3-71f17778ac36>\u001b[0m in \u001b[0;36m<cell line: 5>\u001b[0;34m()\u001b[0m\n\u001b[1;32m      3\u001b[0m \u001b[0mnum_epochs\u001b[0m \u001b[0;34m=\u001b[0m \u001b[0;36m5\u001b[0m\u001b[0;34m\u001b[0m\u001b[0;34m\u001b[0m\u001b[0m\n\u001b[1;32m      4\u001b[0m \u001b[0mbatch_size\u001b[0m \u001b[0;34m=\u001b[0m \u001b[0;36m128\u001b[0m\u001b[0;34m\u001b[0m\u001b[0;34m\u001b[0m\u001b[0m\n\u001b[0;32m----> 5\u001b[0;31m \u001b[0mtrain_conv_net_1\u001b[0m\u001b[0;34m(\u001b[0m \u001b[0mlearning_rate\u001b[0m\u001b[0;34m,\u001b[0m\u001b[0mlr_decay\u001b[0m\u001b[0;34m,\u001b[0m \u001b[0mbatch_size\u001b[0m\u001b[0;34m,\u001b[0m \u001b[0mnum_epochs\u001b[0m\u001b[0;34m)\u001b[0m\u001b[0;34m\u001b[0m\u001b[0;34m\u001b[0m\u001b[0m\n\u001b[0m",
            "\u001b[0;32m<ipython-input-2-ce1c0d9336aa>\u001b[0m in \u001b[0;36mtrain_conv_net_1\u001b[0;34m(learning_rate, lr_decay, batch_size, num_epochs)\u001b[0m\n\u001b[1;32m      3\u001b[0m   \u001b[0;31m# creamos el modelo base\u001b[0m\u001b[0;34m\u001b[0m\u001b[0;34m\u001b[0m\u001b[0m\n\u001b[1;32m      4\u001b[0m   \u001b[0minput_shape\u001b[0m \u001b[0;34m=\u001b[0m \u001b[0;34m(\u001b[0m\u001b[0;36m224\u001b[0m\u001b[0;34m,\u001b[0m \u001b[0;36m224\u001b[0m\u001b[0;34m,\u001b[0m \u001b[0;36m3\u001b[0m\u001b[0;34m)\u001b[0m\u001b[0;34m\u001b[0m\u001b[0;34m\u001b[0m\u001b[0m\n\u001b[0;32m----> 5\u001b[0;31m   \u001b[0mbase_model\u001b[0m \u001b[0;34m=\u001b[0m \u001b[0mVGG16\u001b[0m\u001b[0;34m(\u001b[0m\u001b[0mweights\u001b[0m\u001b[0;34m=\u001b[0m\u001b[0;34m\"imagenet\"\u001b[0m\u001b[0;34m,\u001b[0m \u001b[0minclude_top\u001b[0m\u001b[0;34m=\u001b[0m\u001b[0;32mFalse\u001b[0m\u001b[0;34m,\u001b[0m \u001b[0minput_shape\u001b[0m\u001b[0;34m=\u001b[0m\u001b[0minput_shape\u001b[0m\u001b[0;34m)\u001b[0m\u001b[0;34m\u001b[0m\u001b[0;34m\u001b[0m\u001b[0m\n\u001b[0m\u001b[1;32m      6\u001b[0m   \u001b[0;31m# permitimos que, además de la etapa de clasificación, se entrenen también el\u001b[0m\u001b[0;34m\u001b[0m\u001b[0;34m\u001b[0m\u001b[0m\n\u001b[1;32m      7\u001b[0m   \u001b[0;31m# último bloque convolucional\u001b[0m\u001b[0;34m\u001b[0m\u001b[0;34m\u001b[0m\u001b[0m\n",
            "\u001b[0;31mNameError\u001b[0m: name 'VGG16' is not defined"
          ]
        }
      ]
    },
    {
      "cell_type": "code",
      "source": [
        "# definimos la función para entrenar nuestra red convolucional con los parámetros deseados\n",
        "def train_conv_net_2( learning_rate, lr_decay, batch_size, num_epochs):\n",
        "  # creamos el modelo base\n",
        "  input_shape = (48, 48, 3)\n",
        "  # resize train set\n",
        "  X_train_resized = []\n",
        "  for img in img_train:\n",
        "   X_train_resized.append(np.resize(img, input_shape))\n",
        "\n",
        "  X_train_resized = np.array(X_train_resized)\n",
        "\n",
        "  # resize val set\n",
        "  X_val_resized = []\n",
        "  for img in img_val:\n",
        "    X_val_resized.append(np.resize(img, input_shape))\n",
        "\n",
        "  X_val_resized = np.array(X_val_resized)\n",
        "\n",
        "  # resize val set\n",
        "  X_test_resized = []\n",
        "  for img in img_test:\n",
        "    X_test_resized.append(np.resize(img, input_shape))\n",
        "\n",
        "  X_test_resized = np.array(X_test_resized)\n",
        "\n",
        "  base_model = VGG16(weights=\"imagenet\", include_top=False, input_shape=input_shape)\n",
        "  # permitimos que, además de la etapa de clasificación, se entrenen también el\n",
        "  # último bloque convolucional\n",
        "  for layer in base_model.layers:\n",
        "    layer.trainable = False\n",
        "    if layer.name == \"block5_conv3\":\n",
        "      layer.trainable = True\n",
        "  # cogemos la última capa del model y le añadimos nuestro clasificador (top_model)\n",
        "  last = base_model.layers[-1].output\n",
        "  x = Flatten()(last)\n",
        "  x = Dense(1000, activation='relu', name='fc1')(x)\n",
        "  x = Dropout(0.3)(x)\n",
        "  x = Dense(3, activation='softmax', name='predictions')(x)\n",
        "  model = Model(base_model.input, x)\n",
        "\n",
        "  # compilamos el modelo\n",
        "  model.compile(optimizer=Adam(learning_rate=learning_rate), loss='categorical_crossentropy', metrics=['accuracy'])\n",
        "  # entrenamos el modelo\n",
        "  H = model.fit( X_train_resized, y_train,batch_size=batch_size, validation_data=(X_val_resized, y_val), epochs=num_epochs)\n",
        "  # Evaluando el modelo de predicción con las imágenes de test\n",
        "  print(\"[INFO]: Evaluando red neuronal...\")\n",
        "  predictions = model.predict(X_test_resized, batch_size=batch_size)\n",
        "  y_test_labels = np.argmax(y_test, axis=1)\n",
        "  predictions_labels = np.argmax(predictions, axis=1)\n",
        "  print(classification_report(y_test_labels, predictions_labels))\n",
        "\n",
        "  # Muestro gráfica de accuracy y losses\n",
        "  plt.style.use(\"ggplot\")\n",
        "  plt.figure()\n",
        "  plt.plot(np.arange(0, num_epochs), H.history[\"loss\"], label=\"train_loss\")\n",
        "  plt.plot(np.arange(0, num_epochs), H.history[\"val_loss\"], label=\"val_loss\")\n",
        "  plt.plot(np.arange(0, num_epochs), H.history[\"accuracy\"], label=\"train_acc\")\n",
        "  plt.plot(np.arange(0, num_epochs), H.history[\"val_accuracy\"], label=\"val_acc\")\n",
        "  plt.title(\"Training Loss and Accuracy\")\n",
        "  plt.xlabel(\"Epoch #\")\n",
        "  plt.ylabel(\"Loss/Accuracy\")\n",
        "  plt.legend()"
      ],
      "metadata": {
        "id": "QyWlhz0SRQPp"
      },
      "execution_count": null,
      "outputs": []
    },
    {
      "cell_type": "code",
      "source": [
        "learning_rate = 0.1\n",
        "lr_decay = 1e-3\n",
        "num_epochs = 15\n",
        "batch_size = 128\n",
        "#train_conv_net_2( learning_rate,lr_decay, batch_size, num_epochs)"
      ],
      "metadata": {
        "id": "QZQqCTqKVbXO"
      },
      "execution_count": null,
      "outputs": []
    },
    {
      "cell_type": "code",
      "source": [
        "# definimos la función para entrenar nuestra red convolucional con los parámetros deseados\n",
        "def train_conv_net_3( learning_rate, lr_decay, batch_size, num_epochs):\n",
        "  # creamos el modelo base\n",
        "  input_shape = (48, 48, 3)\n",
        "  # resize train set\n",
        "  X_train_resized = []\n",
        "  for img in img_train:\n",
        "   X_train_resized.append(np.resize(img, input_shape))\n",
        "\n",
        "  X_train_resized = tf.Variable(X_train_resized)\n",
        "\n",
        "  # resize val set\n",
        "  X_val_resized = []\n",
        "  for img in img_val:\n",
        "    X_val_resized.append(np.resize(img, input_shape))\n",
        "\n",
        "  #X_val_resized = np.array(X_val_resized)\n",
        "  X_val_resized = tf.Variable(X_val_resized)\n",
        "\n",
        "  # resize val set\n",
        "  X_test_resized = []\n",
        "  for img in img_test:\n",
        "    X_test_resized.append(np.resize(img, input_shape))\n",
        "\n",
        "  X_test_resized = tf.Variable(X_test_resized)\n",
        "\n",
        "  base_model = VGG16(weights=\"imagenet\", include_top=False, input_shape=input_shape)\n",
        "  # permitimos que, además de la etapa de clasificación, se entrenen también el\n",
        "  # último bloque convolucional\n",
        "  for layer in base_model.layers:\n",
        "    layer.trainable = False\n",
        "    if layer.name == \"block5_conv3\" or layer.name == \"block5_conv2\" or layer.name == \"block5_conv1\":\n",
        "      layer.trainable = True\n",
        "  # cogemos la última capa del model y le añadimos nuestro clasificador (top_model)\n",
        "  last = base_model.layers[-1].output\n",
        "  x = Flatten()(last)\n",
        "  x = Dense(1000, activation='relu', name='fc1')(x)\n",
        "  x = Dropout(0.3)(x)\n",
        "  x = Dense(3, activation='softmax', name='predictions')(x)\n",
        "  model = Model(base_model.input, x)\n",
        "\n",
        "  # compilamos el modelo\n",
        "  model.compile(optimizer=Adam(learning_rate=learning_rate), loss='categorical_crossentropy', metrics=['accuracy'])\n",
        "  # entrenamos el modelo\n",
        "  H = model.fit( X_train_resized, y_train,batch_size=batch_size, validation_data=(X_val_resized, y_val), epochs=num_epochs)\n",
        "  # Evaluando el modelo de predicción con las imágenes de test\n",
        "  print(\"[INFO]: Evaluando red neuronal...\")\n",
        "  predictions = model.predict(X_test_resized, batch_size=batch_size)\n",
        "  y_test_labels = np.argmax(y_test, axis=1)\n",
        "  predictions_labels = np.argmax(predictions, axis=1)\n",
        "  print(classification_report(y_test_labels, predictions_labels))\n",
        "\n",
        "  # Muestro gráfica de accuracy y losses\n",
        "  plt.style.use(\"ggplot\")\n",
        "  plt.figure()\n",
        "  plt.plot(np.arange(0, num_epochs), H.history[\"loss\"], label=\"train_loss\")\n",
        "  plt.plot(np.arange(0, num_epochs), H.history[\"val_loss\"], label=\"val_loss\")\n",
        "  plt.plot(np.arange(0, num_epochs), H.history[\"accuracy\"], label=\"train_acc\")\n",
        "  plt.plot(np.arange(0, num_epochs), H.history[\"val_accuracy\"], label=\"val_acc\")\n",
        "  plt.title(\"Training Loss and Accuracy\")\n",
        "  plt.xlabel(\"Epoch #\")\n",
        "  plt.ylabel(\"Loss/Accuracy\")\n",
        "  plt.legend()"
      ],
      "metadata": {
        "id": "ZMEI_PBLZagz"
      },
      "execution_count": null,
      "outputs": []
    },
    {
      "cell_type": "code",
      "source": [
        "learning_rate = 0.2\n",
        "lr_decay = 1e-3\n",
        "num_epochs = 15\n",
        "batch_size = 128\n",
        "train_conv_net_3( learning_rate,lr_decay, batch_size, num_epochs)"
      ],
      "metadata": {
        "colab": {
          "base_uri": "https://localhost:8080/",
          "height": 1000
        },
        "id": "nbz5BLUdZ3ds",
        "outputId": "c25dc7ba-d44e-4b5c-f5a0-39a483e351a9"
      },
      "execution_count": null,
      "outputs": [
        {
          "output_type": "stream",
          "name": "stdout",
          "text": [
            "Epoch 1/15\n",
            "9/9 [==============================] - 38s 4s/step - loss: 263682784.0000 - accuracy: 0.3470 - val_loss: 3169706.0000 - val_accuracy: 0.3039\n",
            "Epoch 2/15\n",
            "9/9 [==============================] - 37s 4s/step - loss: 1984747.5000 - accuracy: 0.3304 - val_loss: 1221325.2500 - val_accuracy: 0.3627\n",
            "Epoch 3/15\n",
            "9/9 [==============================] - 37s 4s/step - loss: 368285.9688 - accuracy: 0.3078 - val_loss: 525.5725 - val_accuracy: 0.3333\n",
            "Epoch 4/15\n",
            "9/9 [==============================] - 37s 4s/step - loss: 316.3365 - accuracy: 0.3435 - val_loss: 20.9736 - val_accuracy: 0.3333\n",
            "Epoch 5/15\n",
            "9/9 [==============================] - 39s 4s/step - loss: 72.0343 - accuracy: 0.3270 - val_loss: 53.8535 - val_accuracy: 0.3627\n",
            "Epoch 6/15\n",
            "9/9 [==============================] - 39s 4s/step - loss: 21.8118 - accuracy: 0.3409 - val_loss: 3.9780 - val_accuracy: 0.3627\n",
            "Epoch 7/15\n",
            "9/9 [==============================] - 39s 4s/step - loss: 1.9162 - accuracy: 0.3443 - val_loss: 1.1353 - val_accuracy: 0.3627\n",
            "Epoch 8/15\n",
            "9/9 [==============================] - 37s 4s/step - loss: 1.1258 - accuracy: 0.3139 - val_loss: 1.1083 - val_accuracy: 0.3039\n",
            "Epoch 9/15\n",
            "9/9 [==============================] - 38s 4s/step - loss: 1.1062 - accuracy: 0.3000 - val_loss: 1.1108 - val_accuracy: 0.3333\n",
            "Epoch 10/15\n",
            "9/9 [==============================] - 38s 4s/step - loss: 1.1029 - accuracy: 0.3426 - val_loss: 1.1029 - val_accuracy: 0.3333\n",
            "Epoch 11/15\n",
            "9/9 [==============================] - 38s 4s/step - loss: 1.0997 - accuracy: 0.3452 - val_loss: 1.0993 - val_accuracy: 0.3039\n",
            "Epoch 12/15\n",
            "9/9 [==============================] - 39s 4s/step - loss: 1.0997 - accuracy: 0.3061 - val_loss: 1.0990 - val_accuracy: 0.3039\n",
            "Epoch 13/15\n",
            "9/9 [==============================] - 42s 5s/step - loss: 1.0992 - accuracy: 0.3383 - val_loss: 1.1019 - val_accuracy: 0.3333\n",
            "Epoch 14/15\n",
            "9/9 [==============================] - 45s 5s/step - loss: 1.0990 - accuracy: 0.3426 - val_loss: 1.1003 - val_accuracy: 0.3333\n",
            "Epoch 15/15\n",
            "9/9 [==============================] - 48s 5s/step - loss: 1.0987 - accuracy: 0.3252 - val_loss: 1.1003 - val_accuracy: 0.3333\n",
            "[INFO]: Evaluando red neuronal...\n",
            "2/2 [==============================] - 5s 3s/step\n",
            "              precision    recall  f1-score   support\n",
            "\n",
            "           0       0.00      0.00      0.00        89\n",
            "           1       0.00      0.00      0.00        71\n",
            "           2       0.33      1.00      0.50        79\n",
            "\n",
            "    accuracy                           0.33       239\n",
            "   macro avg       0.11      0.33      0.17       239\n",
            "weighted avg       0.11      0.33      0.16       239\n",
            "\n"
          ]
        },
        {
          "output_type": "display_data",
          "data": {
            "text/plain": [
              "<Figure size 640x480 with 1 Axes>"
            ],
            "image/png": "[encoded data removed]"
          },
          "metadata": {}
        }
      ]
    },
    {
      "cell_type": "code",
      "source": [
        "learning_rate = 0.01\n",
        "lr_decay = 1e-3\n",
        "num_epochs = 15\n",
        "batch_size = 128\n",
        "#train_conv_net_3( learning_rate,lr_decay, batch_size, num_epochs)"
      ],
      "metadata": {
        "id": "8Hom2T3mdByV"
      },
      "execution_count": null,
      "outputs": []
    },
    {
      "cell_type": "code",
      "source": [
        "# definimos la función para entrenar nuestra red convolucional con los parámetros deseados\n",
        "def train_conv_net_4( learning_rate, lr_decay, batch_size, num_epochs):\n",
        "  # creamos el modelo base\n",
        "  input_shape = (48, 48, 3)\n",
        "\n",
        "\n",
        "  base_model = VGG16(weights=\"imagenet\", include_top=False, input_shape=input_shape)\n",
        "  # permitimos que, además de la etapa de clasificación, se entrenen también el\n",
        "  # último bloque convolucional\n",
        "  for layer in base_model.layers:\n",
        "    layer.trainable = False\n",
        "    if layer.name == \"block5_conv3\" or layer.name == \"block5_conv2\" or layer.name == \"block5_conv1\" or layer.name == \"block4_conv3\" or layer.name == \"block4_conv2\" or layer.name == \"block4_conv1\":\n",
        "      layer.trainable = True\n",
        "  # cogemos la última capa del model y le añadimos nuestro clasificador (top_model)\n",
        "  last = base_model.layers[-1].output\n",
        "  x = Flatten()(last)\n",
        "  x = Dense(1000, activation='relu', name='fc1')(x)\n",
        "  x = Dropout(0.3)(x)\n",
        "  x = Dense(3, activation='softmax', name='predictions')(x)\n",
        "  model = Model(base_model.input, x)\n",
        "\n",
        "  # compilamos el modelo\n",
        "  opt = tf.keras.optimizers.SGD(learning_rate=learning_rate)\n",
        "  model.compile(optimizer=opt, loss='categorical_crossentropy', metrics=['accuracy'])\n",
        "  # entrenamos el modelo\n",
        "  H = model.fit( X_train_resized, y_train,batch_size=batch_size, validation_data=(X_val_resized, y_val), epochs=num_epochs)\n",
        "  # Evaluando el modelo de predicción con las imágenes de test\n",
        "  print(\"[INFO]: Evaluando red neuronal...\")\n",
        "  predictions = model.predict(X_test_resized, batch_size=batch_size)\n",
        "  y_test_labels = np.argmax(y_test, axis=1)\n",
        "  predictions_labels = np.argmax(predictions, axis=1)\n",
        "  print(classification_report(y_test_labels, predictions_labels))\n",
        "\n",
        "  # Muestro gráfica de accuracy y losses\n",
        "  plt.style.use(\"ggplot\")\n",
        "  plt.figure()\n",
        "  plt.plot(np.arange(0, num_epochs), H.history[\"loss\"], label=\"train_loss\")\n",
        "  plt.plot(np.arange(0, num_epochs), H.history[\"val_loss\"], label=\"val_loss\")\n",
        "  plt.plot(np.arange(0, num_epochs), H.history[\"accuracy\"], label=\"train_acc\")\n",
        "  plt.plot(np.arange(0, num_epochs), H.history[\"val_accuracy\"], label=\"val_acc\")\n",
        "  plt.title(\"Training Loss and Accuracy\")\n",
        "  plt.xlabel(\"Epoch #\")\n",
        "  plt.ylabel(\"Loss/Accuracy\")\n",
        "  plt.legend()"
      ],
      "metadata": {
        "id": "km5oMrWutVUd"
      },
      "execution_count": null,
      "outputs": []
    },
    {
      "cell_type": "code",
      "source": [
        "learning_rate = 0.2\n",
        "lr_decay = 1e-3\n",
        "num_epochs = 10\n",
        "batch_size = 128\n",
        "#train_conv_net_4( learning_rate,lr_decay, batch_size, num_epochs)"
      ],
      "metadata": {
        "colab": {
          "base_uri": "https://localhost:8080/",
          "height": 472
        },
        "id": "Qv5xOg2ft-fA",
        "outputId": "05d4bd05-3d33-4f8c-ce36-0a051cceb9cb"
      },
      "execution_count": null,
      "outputs": [
        {
          "output_type": "stream",
          "name": "stdout",
          "text": [
            "Epoch 1/10\n",
            "9/9 [==============================] - 64s 7s/step - loss: nan - accuracy: 0.3009 - val_loss: nan - val_accuracy: 0.3627\n",
            "Epoch 2/10\n",
            "9/9 [==============================] - 65s 7s/step - loss: nan - accuracy: 0.3226 - val_loss: nan - val_accuracy: 0.3627\n",
            "Epoch 3/10\n",
            "2/9 [=====>........................] - ETA: 49s - loss: nan - accuracy: 0.3047"
          ]
        },
        {
          "output_type": "error",
          "ename": "KeyboardInterrupt",
          "evalue": "ignored",
          "traceback": [
            "\u001b[0;31m---------------------------------------------------------------------------\u001b[0m",
            "\u001b[0;31mKeyboardInterrupt\u001b[0m                         Traceback (most recent call last)",
            "\u001b[0;32m<ipython-input-44-7d2b4a27e4af>\u001b[0m in \u001b[0;36m<cell line: 5>\u001b[0;34m()\u001b[0m\n\u001b[1;32m      3\u001b[0m \u001b[0mnum_epochs\u001b[0m \u001b[0;34m=\u001b[0m \u001b[0;36m10\u001b[0m\u001b[0;34m\u001b[0m\u001b[0;34m\u001b[0m\u001b[0m\n\u001b[1;32m      4\u001b[0m \u001b[0mbatch_size\u001b[0m \u001b[0;34m=\u001b[0m \u001b[0;36m128\u001b[0m\u001b[0;34m\u001b[0m\u001b[0;34m\u001b[0m\u001b[0m\n\u001b[0;32m----> 5\u001b[0;31m \u001b[0mtrain_conv_net_4\u001b[0m\u001b[0;34m(\u001b[0m \u001b[0mlearning_rate\u001b[0m\u001b[0;34m,\u001b[0m\u001b[0mlr_decay\u001b[0m\u001b[0;34m,\u001b[0m \u001b[0mbatch_size\u001b[0m\u001b[0;34m,\u001b[0m \u001b[0mnum_epochs\u001b[0m\u001b[0;34m)\u001b[0m\u001b[0;34m\u001b[0m\u001b[0;34m\u001b[0m\u001b[0m\n\u001b[0m",
            "\u001b[0;32m<ipython-input-41-6e8591f135a8>\u001b[0m in \u001b[0;36mtrain_conv_net_4\u001b[0;34m(learning_rate, lr_decay, batch_size, num_epochs)\u001b[0m\n\u001b[1;32m     24\u001b[0m   \u001b[0mmodel\u001b[0m\u001b[0;34m.\u001b[0m\u001b[0mcompile\u001b[0m\u001b[0;34m(\u001b[0m\u001b[0moptimizer\u001b[0m\u001b[0;34m=\u001b[0m\u001b[0mopt\u001b[0m\u001b[0;34m,\u001b[0m \u001b[0mloss\u001b[0m\u001b[0;34m=\u001b[0m\u001b[0;34m'categorical_crossentropy'\u001b[0m\u001b[0;34m,\u001b[0m \u001b[0mmetrics\u001b[0m\u001b[0;34m=\u001b[0m\u001b[0;34m[\u001b[0m\u001b[0;34m'accuracy'\u001b[0m\u001b[0;34m]\u001b[0m\u001b[0;34m)\u001b[0m\u001b[0;34m\u001b[0m\u001b[0;34m\u001b[0m\u001b[0m\n\u001b[1;32m     25\u001b[0m   \u001b[0;31m# entrenamos el modelo\u001b[0m\u001b[0;34m\u001b[0m\u001b[0;34m\u001b[0m\u001b[0m\n\u001b[0;32m---> 26\u001b[0;31m   \u001b[0mH\u001b[0m \u001b[0;34m=\u001b[0m \u001b[0mmodel\u001b[0m\u001b[0;34m.\u001b[0m\u001b[0mfit\u001b[0m\u001b[0;34m(\u001b[0m \u001b[0mX_train_resized\u001b[0m\u001b[0;34m,\u001b[0m \u001b[0my_train\u001b[0m\u001b[0;34m,\u001b[0m\u001b[0mbatch_size\u001b[0m\u001b[0;34m=\u001b[0m\u001b[0mbatch_size\u001b[0m\u001b[0;34m,\u001b[0m \u001b[0mvalidation_data\u001b[0m\u001b[0;34m=\u001b[0m\u001b[0;34m(\u001b[0m\u001b[0mX_val_resized\u001b[0m\u001b[0;34m,\u001b[0m \u001b[0my_val\u001b[0m\u001b[0;34m)\u001b[0m\u001b[0;34m,\u001b[0m \u001b[0mepochs\u001b[0m\u001b[0;34m=\u001b[0m\u001b[0mnum_epochs\u001b[0m\u001b[0;34m)\u001b[0m\u001b[0;34m\u001b[0m\u001b[0;34m\u001b[0m\u001b[0m\n\u001b[0m\u001b[1;32m     27\u001b[0m   \u001b[0;31m# Evaluando el modelo de predicción con las imágenes de test\u001b[0m\u001b[0;34m\u001b[0m\u001b[0;34m\u001b[0m\u001b[0m\n\u001b[1;32m     28\u001b[0m   \u001b[0mprint\u001b[0m\u001b[0;34m(\u001b[0m\u001b[0;34m\"[INFO]: Evaluando red neuronal...\"\u001b[0m\u001b[0;34m)\u001b[0m\u001b[0;34m\u001b[0m\u001b[0;34m\u001b[0m\u001b[0m\n",
            "\u001b[0;32m/usr/local/lib/python3.10/dist-packages/keras/utils/traceback_utils.py\u001b[0m in \u001b[0;36merror_handler\u001b[0;34m(*args, **kwargs)\u001b[0m\n\u001b[1;32m     63\u001b[0m         \u001b[0mfiltered_tb\u001b[0m \u001b[0;34m=\u001b[0m \u001b[0;32mNone\u001b[0m\u001b[0;34m\u001b[0m\u001b[0;34m\u001b[0m\u001b[0m\n\u001b[1;32m     64\u001b[0m         \u001b[0;32mtry\u001b[0m\u001b[0;34m:\u001b[0m\u001b[0;34m\u001b[0m\u001b[0;34m\u001b[0m\u001b[0m\n\u001b[0;32m---> 65\u001b[0;31m             \u001b[0;32mreturn\u001b[0m \u001b[0mfn\u001b[0m\u001b[0;34m(\u001b[0m\u001b[0;34m*\u001b[0m\u001b[0margs\u001b[0m\u001b[0;34m,\u001b[0m \u001b[0;34m**\u001b[0m\u001b[0mkwargs\u001b[0m\u001b[0;34m)\u001b[0m\u001b[0;34m\u001b[0m\u001b[0;34m\u001b[0m\u001b[0m\n\u001b[0m\u001b[1;32m     66\u001b[0m         \u001b[0;32mexcept\u001b[0m \u001b[0mException\u001b[0m \u001b[0;32mas\u001b[0m \u001b[0me\u001b[0m\u001b[0;34m:\u001b[0m\u001b[0;34m\u001b[0m\u001b[0;34m\u001b[0m\u001b[0m\n\u001b[1;32m     67\u001b[0m             \u001b[0mfiltered_tb\u001b[0m \u001b[0;34m=\u001b[0m \u001b[0m_process_traceback_frames\u001b[0m\u001b[0;34m(\u001b[0m\u001b[0me\u001b[0m\u001b[0;34m.\u001b[0m\u001b[0m__traceback__\u001b[0m\u001b[0;34m)\u001b[0m\u001b[0;34m\u001b[0m\u001b[0;34m\u001b[0m\u001b[0m\n",
            "\u001b[0;32m/usr/local/lib/python3.10/dist-packages/keras/engine/training.py\u001b[0m in \u001b[0;36mfit\u001b[0;34m(self, x, y, batch_size, epochs, verbose, callbacks, validation_split, validation_data, shuffle, class_weight, sample_weight, initial_epoch, steps_per_epoch, validation_steps, validation_batch_size, validation_freq, max_queue_size, workers, use_multiprocessing)\u001b[0m\n\u001b[1;32m   1683\u001b[0m                         ):\n\u001b[1;32m   1684\u001b[0m                             \u001b[0mcallbacks\u001b[0m\u001b[0;34m.\u001b[0m\u001b[0mon_train_batch_begin\u001b[0m\u001b[0;34m(\u001b[0m\u001b[0mstep\u001b[0m\u001b[0;34m)\u001b[0m\u001b[0;34m\u001b[0m\u001b[0;34m\u001b[0m\u001b[0m\n\u001b[0;32m-> 1685\u001b[0;31m                             \u001b[0mtmp_logs\u001b[0m \u001b[0;34m=\u001b[0m \u001b[0mself\u001b[0m\u001b[0;34m.\u001b[0m\u001b[0mtrain_function\u001b[0m\u001b[0;34m(\u001b[0m\u001b[0miterator\u001b[0m\u001b[0;34m)\u001b[0m\u001b[0;34m\u001b[0m\u001b[0;34m\u001b[0m\u001b[0m\n\u001b[0m\u001b[1;32m   1686\u001b[0m                             \u001b[0;32mif\u001b[0m \u001b[0mdata_handler\u001b[0m\u001b[0;34m.\u001b[0m\u001b[0mshould_sync\u001b[0m\u001b[0;34m:\u001b[0m\u001b[0;34m\u001b[0m\u001b[0;34m\u001b[0m\u001b[0m\n\u001b[1;32m   1687\u001b[0m                                 \u001b[0mcontext\u001b[0m\u001b[0;34m.\u001b[0m\u001b[0masync_wait\u001b[0m\u001b[0;34m(\u001b[0m\u001b[0;34m)\u001b[0m\u001b[0;34m\u001b[0m\u001b[0;34m\u001b[0m\u001b[0m\n",
            "\u001b[0;32m/usr/local/lib/python3.10/dist-packages/tensorflow/python/util/traceback_utils.py\u001b[0m in \u001b[0;36merror_handler\u001b[0;34m(*args, **kwargs)\u001b[0m\n\u001b[1;32m    148\u001b[0m     \u001b[0mfiltered_tb\u001b[0m \u001b[0;34m=\u001b[0m \u001b[0;32mNone\u001b[0m\u001b[0;34m\u001b[0m\u001b[0;34m\u001b[0m\u001b[0m\n\u001b[1;32m    149\u001b[0m     \u001b[0;32mtry\u001b[0m\u001b[0;34m:\u001b[0m\u001b[0;34m\u001b[0m\u001b[0;34m\u001b[0m\u001b[0m\n\u001b[0;32m--> 150\u001b[0;31m       \u001b[0;32mreturn\u001b[0m \u001b[0mfn\u001b[0m\u001b[0;34m(\u001b[0m\u001b[0;34m*\u001b[0m\u001b[0margs\u001b[0m\u001b[0;34m,\u001b[0m \u001b[0;34m**\u001b[0m\u001b[0mkwargs\u001b[0m\u001b[0;34m)\u001b[0m\u001b[0;34m\u001b[0m\u001b[0;34m\u001b[0m\u001b[0m\n\u001b[0m\u001b[1;32m    151\u001b[0m     \u001b[0;32mexcept\u001b[0m \u001b[0mException\u001b[0m \u001b[0;32mas\u001b[0m \u001b[0me\u001b[0m\u001b[0;34m:\u001b[0m\u001b[0;34m\u001b[0m\u001b[0;34m\u001b[0m\u001b[0m\n\u001b[1;32m    152\u001b[0m       \u001b[0mfiltered_tb\u001b[0m \u001b[0;34m=\u001b[0m \u001b[0m_process_traceback_frames\u001b[0m\u001b[0;34m(\u001b[0m\u001b[0me\u001b[0m\u001b[0;34m.\u001b[0m\u001b[0m__traceback__\u001b[0m\u001b[0;34m)\u001b[0m\u001b[0;34m\u001b[0m\u001b[0;34m\u001b[0m\u001b[0m\n",
            "\u001b[0;32m/usr/local/lib/python3.10/dist-packages/tensorflow/python/eager/polymorphic_function/polymorphic_function.py\u001b[0m in \u001b[0;36m__call__\u001b[0;34m(self, *args, **kwds)\u001b[0m\n\u001b[1;32m    892\u001b[0m \u001b[0;34m\u001b[0m\u001b[0m\n\u001b[1;32m    893\u001b[0m       \u001b[0;32mwith\u001b[0m \u001b[0mOptionalXlaContext\u001b[0m\u001b[0;34m(\u001b[0m\u001b[0mself\u001b[0m\u001b[0;34m.\u001b[0m\u001b[0m_jit_compile\u001b[0m\u001b[0;34m)\u001b[0m\u001b[0;34m:\u001b[0m\u001b[0;34m\u001b[0m\u001b[0;34m\u001b[0m\u001b[0m\n\u001b[0;32m--> 894\u001b[0;31m         \u001b[0mresult\u001b[0m \u001b[0;34m=\u001b[0m \u001b[0mself\u001b[0m\u001b[0;34m.\u001b[0m\u001b[0m_call\u001b[0m\u001b[0;34m(\u001b[0m\u001b[0;34m*\u001b[0m\u001b[0margs\u001b[0m\u001b[0;34m,\u001b[0m \u001b[0;34m**\u001b[0m\u001b[0mkwds\u001b[0m\u001b[0;34m)\u001b[0m\u001b[0;34m\u001b[0m\u001b[0;34m\u001b[0m\u001b[0m\n\u001b[0m\u001b[1;32m    895\u001b[0m \u001b[0;34m\u001b[0m\u001b[0m\n\u001b[1;32m    896\u001b[0m       \u001b[0mnew_tracing_count\u001b[0m \u001b[0;34m=\u001b[0m \u001b[0mself\u001b[0m\u001b[0;34m.\u001b[0m\u001b[0mexperimental_get_tracing_count\u001b[0m\u001b[0;34m(\u001b[0m\u001b[0;34m)\u001b[0m\u001b[0;34m\u001b[0m\u001b[0;34m\u001b[0m\u001b[0m\n",
            "\u001b[0;32m/usr/local/lib/python3.10/dist-packages/tensorflow/python/eager/polymorphic_function/polymorphic_function.py\u001b[0m in \u001b[0;36m_call\u001b[0;34m(self, *args, **kwds)\u001b[0m\n\u001b[1;32m    924\u001b[0m       \u001b[0;31m# In this case we have created variables on the first call, so we run the\u001b[0m\u001b[0;34m\u001b[0m\u001b[0;34m\u001b[0m\u001b[0m\n\u001b[1;32m    925\u001b[0m       \u001b[0;31m# defunned version which is guaranteed to never create variables.\u001b[0m\u001b[0;34m\u001b[0m\u001b[0;34m\u001b[0m\u001b[0m\n\u001b[0;32m--> 926\u001b[0;31m       \u001b[0;32mreturn\u001b[0m \u001b[0mself\u001b[0m\u001b[0;34m.\u001b[0m\u001b[0m_no_variable_creation_fn\u001b[0m\u001b[0;34m(\u001b[0m\u001b[0;34m*\u001b[0m\u001b[0margs\u001b[0m\u001b[0;34m,\u001b[0m \u001b[0;34m**\u001b[0m\u001b[0mkwds\u001b[0m\u001b[0;34m)\u001b[0m  \u001b[0;31m# pylint: disable=not-callable\u001b[0m\u001b[0;34m\u001b[0m\u001b[0;34m\u001b[0m\u001b[0m\n\u001b[0m\u001b[1;32m    927\u001b[0m     \u001b[0;32melif\u001b[0m \u001b[0mself\u001b[0m\u001b[0;34m.\u001b[0m\u001b[0m_variable_creation_fn\u001b[0m \u001b[0;32mis\u001b[0m \u001b[0;32mnot\u001b[0m \u001b[0;32mNone\u001b[0m\u001b[0;34m:\u001b[0m\u001b[0;34m\u001b[0m\u001b[0;34m\u001b[0m\u001b[0m\n\u001b[1;32m    928\u001b[0m       \u001b[0;31m# Release the lock early so that multiple threads can perform the call\u001b[0m\u001b[0;34m\u001b[0m\u001b[0;34m\u001b[0m\u001b[0m\n",
            "\u001b[0;32m/usr/local/lib/python3.10/dist-packages/tensorflow/python/eager/polymorphic_function/tracing_compiler.py\u001b[0m in \u001b[0;36m__call__\u001b[0;34m(self, *args, **kwargs)\u001b[0m\n\u001b[1;32m    141\u001b[0m       (concrete_function,\n\u001b[1;32m    142\u001b[0m        filtered_flat_args) = self._maybe_define_function(args, kwargs)\n\u001b[0;32m--> 143\u001b[0;31m     return concrete_function._call_flat(\n\u001b[0m\u001b[1;32m    144\u001b[0m         filtered_flat_args, captured_inputs=concrete_function.captured_inputs)  # pylint: disable=protected-access\n\u001b[1;32m    145\u001b[0m \u001b[0;34m\u001b[0m\u001b[0m\n",
            "\u001b[0;32m/usr/local/lib/python3.10/dist-packages/tensorflow/python/eager/polymorphic_function/monomorphic_function.py\u001b[0m in \u001b[0;36m_call_flat\u001b[0;34m(self, args, captured_inputs, cancellation_manager)\u001b[0m\n\u001b[1;32m   1755\u001b[0m         and executing_eagerly):\n\u001b[1;32m   1756\u001b[0m       \u001b[0;31m# No tape is watching; skip to running the function.\u001b[0m\u001b[0;34m\u001b[0m\u001b[0;34m\u001b[0m\u001b[0m\n\u001b[0;32m-> 1757\u001b[0;31m       return self._build_call_outputs(self._inference_function.call(\n\u001b[0m\u001b[1;32m   1758\u001b[0m           ctx, args, cancellation_manager=cancellation_manager))\n\u001b[1;32m   1759\u001b[0m     forward_backward = self._select_forward_and_backward_functions(\n",
            "\u001b[0;32m/usr/local/lib/python3.10/dist-packages/tensorflow/python/eager/polymorphic_function/monomorphic_function.py\u001b[0m in \u001b[0;36mcall\u001b[0;34m(self, ctx, args, cancellation_manager)\u001b[0m\n\u001b[1;32m    379\u001b[0m       \u001b[0;32mwith\u001b[0m \u001b[0m_InterpolateFunctionError\u001b[0m\u001b[0;34m(\u001b[0m\u001b[0mself\u001b[0m\u001b[0;34m)\u001b[0m\u001b[0;34m:\u001b[0m\u001b[0;34m\u001b[0m\u001b[0;34m\u001b[0m\u001b[0m\n\u001b[1;32m    380\u001b[0m         \u001b[0;32mif\u001b[0m \u001b[0mcancellation_manager\u001b[0m \u001b[0;32mis\u001b[0m \u001b[0;32mNone\u001b[0m\u001b[0;34m:\u001b[0m\u001b[0;34m\u001b[0m\u001b[0;34m\u001b[0m\u001b[0m\n\u001b[0;32m--> 381\u001b[0;31m           outputs = execute.execute(\n\u001b[0m\u001b[1;32m    382\u001b[0m               \u001b[0mstr\u001b[0m\u001b[0;34m(\u001b[0m\u001b[0mself\u001b[0m\u001b[0;34m.\u001b[0m\u001b[0msignature\u001b[0m\u001b[0;34m.\u001b[0m\u001b[0mname\u001b[0m\u001b[0;34m)\u001b[0m\u001b[0;34m,\u001b[0m\u001b[0;34m\u001b[0m\u001b[0;34m\u001b[0m\u001b[0m\n\u001b[1;32m    383\u001b[0m               \u001b[0mnum_outputs\u001b[0m\u001b[0;34m=\u001b[0m\u001b[0mself\u001b[0m\u001b[0;34m.\u001b[0m\u001b[0m_num_outputs\u001b[0m\u001b[0;34m,\u001b[0m\u001b[0;34m\u001b[0m\u001b[0;34m\u001b[0m\u001b[0m\n",
            "\u001b[0;32m/usr/local/lib/python3.10/dist-packages/tensorflow/python/eager/execute.py\u001b[0m in \u001b[0;36mquick_execute\u001b[0;34m(op_name, num_outputs, inputs, attrs, ctx, name)\u001b[0m\n\u001b[1;32m     50\u001b[0m   \u001b[0;32mtry\u001b[0m\u001b[0;34m:\u001b[0m\u001b[0;34m\u001b[0m\u001b[0;34m\u001b[0m\u001b[0m\n\u001b[1;32m     51\u001b[0m     \u001b[0mctx\u001b[0m\u001b[0;34m.\u001b[0m\u001b[0mensure_initialized\u001b[0m\u001b[0;34m(\u001b[0m\u001b[0;34m)\u001b[0m\u001b[0;34m\u001b[0m\u001b[0;34m\u001b[0m\u001b[0m\n\u001b[0;32m---> 52\u001b[0;31m     tensors = pywrap_tfe.TFE_Py_Execute(ctx._handle, device_name, op_name,\n\u001b[0m\u001b[1;32m     53\u001b[0m                                         inputs, attrs, num_outputs)\n\u001b[1;32m     54\u001b[0m   \u001b[0;32mexcept\u001b[0m \u001b[0mcore\u001b[0m\u001b[0;34m.\u001b[0m\u001b[0m_NotOkStatusException\u001b[0m \u001b[0;32mas\u001b[0m \u001b[0me\u001b[0m\u001b[0;34m:\u001b[0m\u001b[0;34m\u001b[0m\u001b[0;34m\u001b[0m\u001b[0m\n",
            "\u001b[0;31mKeyboardInterrupt\u001b[0m: "
          ]
        }
      ]
    },
    {
      "cell_type": "markdown",
      "source": [
        "# 2.c. Modelo para imagenes conredes convolucionales"
      ],
      "metadata": {
        "id": "D8zKwbvLQj-p"
      }
    },
    {
      "cell_type": "markdown",
      "source": [
        "Mismos resultados y conclusiones que con el punto 2.b"
      ],
      "metadata": {
        "id": "DyCSiD_kdfHo"
      }
    },
    {
      "cell_type": "code",
      "source": [
        "# definimos la función para entrenar nuestra red con los parámetros deseados\n",
        "def train_conv_net_5( learning_rate, lr_decay, batch_size, num_epochs):\n",
        "\n",
        "  # Implementamos la red empleando Keras\n",
        "  # Inizializamos el modelo\n",
        "  model = Sequential()\n",
        "\n",
        "  # Probabilidad de dropout (probabilidad que un peso w = 0 en entrenamiento)\n",
        "  P = 0.25\n",
        "\n",
        "  # Definimos una capa convolucional\n",
        "  model.add(Conv2D(128, kernel_size=(3, 3), activation='relu', input_shape=(48, 48, 3)))\n",
        "  model.add(Dropout(P))\n",
        "\n",
        "  # Definimos una segunda capa convolucional\n",
        "  model.add(Conv2D(128, kernel_size=(3, 3), activation='relu'))\n",
        "  model.add(Dropout(P))\n",
        "\n",
        "  # Definimos una tercera capa convolucional\n",
        "  model.add(Conv2D(128, kernel_size=(3, 3), activation='relu'))\n",
        "  model.add(Dropout(P))\n",
        "\n",
        "  # Añadimos nuestro clasificador\n",
        "  model.add(Flatten())\n",
        "  model.add(Dense(1024, activation='relu'))\n",
        "  model.add(Dropout(P))\n",
        "  model.add(Dense(3, activation='softmax'))\n",
        "\n",
        "\n",
        "  # Compilamos y entrenamos el modelo SGD\n",
        "  print(\"[INFO]: Entrenando red neuronal...\")\n",
        "  lr_schedule = tf.keras.optimizers.schedules.ExponentialDecay(\n",
        "    initial_learning_rate=0.01,\n",
        "    decay_steps=100,\n",
        "    decay_rate=0.96,\n",
        "    staircase=True\n",
        "  )\n",
        "  model.compile(loss='categorical_crossentropy',\n",
        "              optimizer=Adam(learning_rate=lr_schedule),\n",
        "              metrics=['accuracy'])\n",
        "\n",
        "\n",
        "  # entrenamos el modelo\n",
        "  H = model.fit( X_train_resized, y_train,batch_size=batch_size, validation_data=(X_val_resized, y_val), epochs=num_epochs)\n",
        "  # Evaluando el modelo de predicción con las imágenes de test\n",
        "  print(\"[INFO]: Evaluando red neuronal...\")\n",
        "  predictions = model.predict(X_test_resized, batch_size=batch_size)\n",
        "  y_test_labels = np.argmax(y_test, axis=1)\n",
        "  predictions_labels = np.argmax(predictions, axis=1)\n",
        "  print(classification_report(y_test_labels, predictions_labels))\n",
        "\n",
        "\n",
        "  # Muestro gráfica de accuracy y losses\n",
        "  plt.style.use(\"ggplot\")\n",
        "  plt.figure()\n",
        "  plt.plot(np.arange(0, num_epochs), H.history[\"loss\"], label=\"train_loss\")\n",
        "  plt.plot(np.arange(0, num_epochs), H.history[\"val_loss\"], label=\"val_loss\")\n",
        "  plt.plot(np.arange(0, num_epochs), H.history[\"accuracy\"], label=\"train_acc\")\n",
        "  plt.plot(np.arange(0, num_epochs), H.history[\"val_accuracy\"], label=\"val_acc\")\n",
        "  plt.title(\"Training Loss and Accuracy\")\n",
        "  plt.xlabel(\"Epoch #\")\n",
        "  plt.ylabel(\"Loss/Accuracy\")\n",
        "  plt.legend()"
      ],
      "metadata": {
        "id": "tmNpFHRuQtQw"
      },
      "execution_count": null,
      "outputs": []
    },
    {
      "cell_type": "code",
      "source": [
        "learning_rate = 0.01\n",
        "lr_decay = 1e-3\n",
        "num_epochs = 15\n",
        "batch_size = 128\n",
        "train_conv_net_5( learning_rate,lr_decay, batch_size, num_epochs)"
      ],
      "metadata": {
        "colab": {
          "base_uri": "https://localhost:8080/",
          "height": 1000
        },
        "id": "MVn6PQD0kmLl",
        "outputId": "056eab62-5c8b-45ed-a873-968d97b09b4d"
      },
      "execution_count": null,
      "outputs": [
        {
          "output_type": "stream",
          "name": "stdout",
          "text": [
            "[INFO]: Entrenando red neuronal...\n",
            "Epoch 1/15\n",
            "9/9 [==============================] - 139s 15s/step - loss: 413.2640 - accuracy: 0.3678 - val_loss: 1.1003 - val_accuracy: 0.3627\n",
            "Epoch 2/15\n",
            "9/9 [==============================] - 130s 15s/step - loss: 1.1090 - accuracy: 0.3270 - val_loss: 1.1002 - val_accuracy: 0.3333\n",
            "Epoch 3/15\n",
            "9/9 [==============================] - 129s 14s/step - loss: 1.1025 - accuracy: 0.3400 - val_loss: 1.1034 - val_accuracy: 0.3333\n",
            "Epoch 4/15\n",
            "9/9 [==============================] - 129s 14s/step - loss: 1.1014 - accuracy: 0.3226 - val_loss: 1.0977 - val_accuracy: 0.3627\n",
            "Epoch 5/15\n",
            "9/9 [==============================] - 129s 14s/step - loss: 1.0999 - accuracy: 0.3191 - val_loss: 1.1022 - val_accuracy: 0.3039\n",
            "Epoch 6/15\n",
            "9/9 [==============================] - 129s 14s/step - loss: 1.0990 - accuracy: 0.3409 - val_loss: 1.1005 - val_accuracy: 0.3333\n",
            "Epoch 7/15\n",
            "9/9 [==============================] - 137s 15s/step - loss: 1.0993 - accuracy: 0.3461 - val_loss: 1.0998 - val_accuracy: 0.3333\n",
            "Epoch 8/15\n",
            "9/9 [==============================] - 132s 15s/step - loss: 1.0993 - accuracy: 0.3435 - val_loss: 1.0987 - val_accuracy: 0.3333\n",
            "Epoch 9/15\n",
            "9/9 [==============================] - 130s 14s/step - loss: 1.0996 - accuracy: 0.3357 - val_loss: 1.1020 - val_accuracy: 0.3039\n",
            "Epoch 10/15\n",
            "9/9 [==============================] - 147s 16s/step - loss: 1.0994 - accuracy: 0.3217 - val_loss: 1.1000 - val_accuracy: 0.3333\n",
            "Epoch 11/15\n",
            "9/9 [==============================] - 152s 17s/step - loss: 1.0982 - accuracy: 0.3417 - val_loss: 1.0988 - val_accuracy: 0.3333\n",
            "Epoch 12/15\n",
            "9/9 [==============================] - 131s 15s/step - loss: 1.0992 - accuracy: 0.3409 - val_loss: 1.0985 - val_accuracy: 0.3333\n",
            "Epoch 13/15\n",
            "9/9 [==============================] - 142s 16s/step - loss: 1.0985 - accuracy: 0.3461 - val_loss: 1.1013 - val_accuracy: 0.3333\n",
            "Epoch 14/15\n",
            "9/9 [==============================] - 139s 16s/step - loss: 1.0994 - accuracy: 0.3148 - val_loss: 1.0989 - val_accuracy: 0.3333\n",
            "Epoch 15/15\n",
            "9/9 [==============================] - 134s 15s/step - loss: 1.0993 - accuracy: 0.3504 - val_loss: 1.1011 - val_accuracy: 0.3333\n",
            "[INFO]: Evaluando red neuronal...\n",
            "2/2 [==============================] - 5s 2s/step\n",
            "              precision    recall  f1-score   support\n",
            "\n",
            "           0       0.00      0.00      0.00        89\n",
            "           1       0.00      0.00      0.00        71\n",
            "           2       0.33      1.00      0.50        79\n",
            "\n",
            "    accuracy                           0.33       239\n",
            "   macro avg       0.11      0.33      0.17       239\n",
            "weighted avg       0.11      0.33      0.16       239\n",
            "\n"
          ]
        },
        {
          "output_type": "display_data",
          "data": {
            "text/plain": [
              "<Figure size 640x480 with 1 Axes>"
            ],
            "image/png": "[encoded data removed]"
          },
          "metadata": {}
        }
      ]
    },
    {
      "cell_type": "code",
      "source": [
        "# definimos la función para entrenar nuestra red con los parámetros deseados\n",
        "def train_conv_net_6( learning_rate, lr_decay, batch_size, num_epochs):\n",
        "\n",
        "  # Implementamos la red empleando Keras\n",
        "  # Inizializamos el modelo\n",
        "  model = Sequential()\n",
        "\n",
        "  # Probabilidad de dropout (probabilidad que un peso w = 0 en entrenamiento)\n",
        "  P = 0.25\n",
        "\n",
        "  # Definimos una capa convolucional\n",
        "  model.add(Conv2D(128, kernel_size=(3, 3), activation='relu', input_shape=(48, 48, 3)))\n",
        "  model.add(Dropout(P))\n",
        "\n",
        "  # Definimos una segunda capa convolucional\n",
        "  model.add(Conv2D(128, kernel_size=(3, 3), activation='relu'))\n",
        "  model.add(Dropout(P))\n",
        "\n",
        "  # Definimos una tercera capa convolucional\n",
        "  model.add(Conv2D(128, kernel_size=(3, 3), activation='relu'))\n",
        "  model.add(Dropout(P))\n",
        "\n",
        "  # Añadimos nuestro clasificador\n",
        "  model.add(Flatten())\n",
        "  model.add(Dense(1024, activation='relu'))\n",
        "  model.add(Dropout(P))\n",
        "  model.add(Dense(3, activation='softmax'))\n",
        "\n",
        "\n",
        "  # Compilamos y entrenamos el modelo SGD\n",
        "  print(\"[INFO]: Entrenando red neuronal...\")\n",
        "  opt = tf.keras.optimizers.SGD(learning_rate=learning_rate)\n",
        "  model.compile(loss='categorical_crossentropy',\n",
        "              optimizer=opt,\n",
        "              metrics=['accuracy'])\n",
        "\n",
        "\n",
        "  # entrenamos el modelo\n",
        "  H = model.fit( X_train_resized, y_train,batch_size=batch_size, validation_data=(X_val_resized, y_val), epochs=num_epochs)\n",
        "  # Evaluando el modelo de predicción con las imágenes de test\n",
        "  print(\"[INFO]: Evaluando red neuronal...\")\n",
        "  predictions = model.predict(X_test_resized, batch_size=batch_size)\n",
        "  y_test_labels = np.argmax(y_test, axis=1)\n",
        "  predictions_labels = np.argmax(predictions, axis=1)\n",
        "  print(classification_report(y_test_labels, predictions_labels))\n",
        "\n",
        "\n",
        "  # Muestro gráfica de accuracy y losses\n",
        "  plt.style.use(\"ggplot\")\n",
        "  plt.figure()\n",
        "  plt.plot(np.arange(0, num_epochs), H.history[\"loss\"], label=\"train_loss\")\n",
        "  plt.plot(np.arange(0, num_epochs), H.history[\"val_loss\"], label=\"val_loss\")\n",
        "  plt.plot(np.arange(0, num_epochs), H.history[\"accuracy\"], label=\"train_acc\")\n",
        "  plt.plot(np.arange(0, num_epochs), H.history[\"val_accuracy\"], label=\"val_acc\")\n",
        "  plt.title(\"Training Loss and Accuracy\")\n",
        "  plt.xlabel(\"Epoch #\")\n",
        "  plt.ylabel(\"Loss/Accuracy\")\n",
        "  plt.legend()"
      ],
      "metadata": {
        "id": "vdF38poGOGA7"
      },
      "execution_count": null,
      "outputs": []
    },
    {
      "cell_type": "code",
      "source": [
        "learning_rate = 0.2\n",
        "lr_decay = 1e-3\n",
        "num_epochs = 15\n",
        "batch_size = 128\n",
        "train_conv_net_6( learning_rate,lr_decay, batch_size, num_epochs)"
      ],
      "metadata": {
        "colab": {
          "base_uri": "https://localhost:8080/",
          "height": 472
        },
        "id": "WIY3EWrdOYw9",
        "outputId": "312786bf-35d8-4688-f9ab-56e34a058610"
      },
      "execution_count": null,
      "outputs": [
        {
          "output_type": "stream",
          "name": "stdout",
          "text": [
            "[INFO]: Entrenando red neuronal...\n",
            "Epoch 1/15\n",
            "9/9 [==============================] - 125s 14s/step - loss: 61541898518528.0000 - accuracy: 0.3383 - val_loss: nan - val_accuracy: 0.3676\n",
            "Epoch 2/15\n",
            "9/9 [==============================] - 123s 14s/step - loss: nan - accuracy: 0.3226 - val_loss: nan - val_accuracy: 0.3627\n",
            "Epoch 3/15\n"
          ]
        },
        {
          "output_type": "error",
          "ename": "KeyboardInterrupt",
          "evalue": "ignored",
          "traceback": [
            "\u001b[0;31m---------------------------------------------------------------------------\u001b[0m",
            "\u001b[0;31mKeyboardInterrupt\u001b[0m                         Traceback (most recent call last)",
            "\u001b[0;32m<ipython-input-49-6141a1ae8640>\u001b[0m in \u001b[0;36m<cell line: 5>\u001b[0;34m()\u001b[0m\n\u001b[1;32m      3\u001b[0m \u001b[0mnum_epochs\u001b[0m \u001b[0;34m=\u001b[0m \u001b[0;36m15\u001b[0m\u001b[0;34m\u001b[0m\u001b[0;34m\u001b[0m\u001b[0m\n\u001b[1;32m      4\u001b[0m \u001b[0mbatch_size\u001b[0m \u001b[0;34m=\u001b[0m \u001b[0;36m128\u001b[0m\u001b[0;34m\u001b[0m\u001b[0;34m\u001b[0m\u001b[0m\n\u001b[0;32m----> 5\u001b[0;31m \u001b[0mtrain_conv_net_6\u001b[0m\u001b[0;34m(\u001b[0m \u001b[0mlearning_rate\u001b[0m\u001b[0;34m,\u001b[0m\u001b[0mlr_decay\u001b[0m\u001b[0;34m,\u001b[0m \u001b[0mbatch_size\u001b[0m\u001b[0;34m,\u001b[0m \u001b[0mnum_epochs\u001b[0m\u001b[0;34m)\u001b[0m\u001b[0;34m\u001b[0m\u001b[0;34m\u001b[0m\u001b[0m\n\u001b[0m",
            "\u001b[0;32m<ipython-input-48-5cc7604da9a2>\u001b[0m in \u001b[0;36mtrain_conv_net_6\u001b[0;34m(learning_rate, lr_decay, batch_size, num_epochs)\u001b[0m\n\u001b[1;32m     37\u001b[0m \u001b[0;34m\u001b[0m\u001b[0m\n\u001b[1;32m     38\u001b[0m   \u001b[0;31m# entrenamos el modelo\u001b[0m\u001b[0;34m\u001b[0m\u001b[0;34m\u001b[0m\u001b[0m\n\u001b[0;32m---> 39\u001b[0;31m   \u001b[0mH\u001b[0m \u001b[0;34m=\u001b[0m \u001b[0mmodel\u001b[0m\u001b[0;34m.\u001b[0m\u001b[0mfit\u001b[0m\u001b[0;34m(\u001b[0m \u001b[0mX_train_resized\u001b[0m\u001b[0;34m,\u001b[0m \u001b[0my_train\u001b[0m\u001b[0;34m,\u001b[0m\u001b[0mbatch_size\u001b[0m\u001b[0;34m=\u001b[0m\u001b[0mbatch_size\u001b[0m\u001b[0;34m,\u001b[0m \u001b[0mvalidation_data\u001b[0m\u001b[0;34m=\u001b[0m\u001b[0;34m(\u001b[0m\u001b[0mX_val_resized\u001b[0m\u001b[0;34m,\u001b[0m \u001b[0my_val\u001b[0m\u001b[0;34m)\u001b[0m\u001b[0;34m,\u001b[0m \u001b[0mepochs\u001b[0m\u001b[0;34m=\u001b[0m\u001b[0mnum_epochs\u001b[0m\u001b[0;34m)\u001b[0m\u001b[0;34m\u001b[0m\u001b[0;34m\u001b[0m\u001b[0m\n\u001b[0m\u001b[1;32m     40\u001b[0m   \u001b[0;31m# Evaluando el modelo de predicción con las imágenes de test\u001b[0m\u001b[0;34m\u001b[0m\u001b[0;34m\u001b[0m\u001b[0m\n\u001b[1;32m     41\u001b[0m   \u001b[0mprint\u001b[0m\u001b[0;34m(\u001b[0m\u001b[0;34m\"[INFO]: Evaluando red neuronal...\"\u001b[0m\u001b[0;34m)\u001b[0m\u001b[0;34m\u001b[0m\u001b[0;34m\u001b[0m\u001b[0m\n",
            "\u001b[0;32m/usr/local/lib/python3.10/dist-packages/keras/utils/traceback_utils.py\u001b[0m in \u001b[0;36merror_handler\u001b[0;34m(*args, **kwargs)\u001b[0m\n\u001b[1;32m     63\u001b[0m         \u001b[0mfiltered_tb\u001b[0m \u001b[0;34m=\u001b[0m \u001b[0;32mNone\u001b[0m\u001b[0;34m\u001b[0m\u001b[0;34m\u001b[0m\u001b[0m\n\u001b[1;32m     64\u001b[0m         \u001b[0;32mtry\u001b[0m\u001b[0;34m:\u001b[0m\u001b[0;34m\u001b[0m\u001b[0;34m\u001b[0m\u001b[0m\n\u001b[0;32m---> 65\u001b[0;31m             \u001b[0;32mreturn\u001b[0m \u001b[0mfn\u001b[0m\u001b[0;34m(\u001b[0m\u001b[0;34m*\u001b[0m\u001b[0margs\u001b[0m\u001b[0;34m,\u001b[0m \u001b[0;34m**\u001b[0m\u001b[0mkwargs\u001b[0m\u001b[0;34m)\u001b[0m\u001b[0;34m\u001b[0m\u001b[0;34m\u001b[0m\u001b[0m\n\u001b[0m\u001b[1;32m     66\u001b[0m         \u001b[0;32mexcept\u001b[0m \u001b[0mException\u001b[0m \u001b[0;32mas\u001b[0m \u001b[0me\u001b[0m\u001b[0;34m:\u001b[0m\u001b[0;34m\u001b[0m\u001b[0;34m\u001b[0m\u001b[0m\n\u001b[1;32m     67\u001b[0m             \u001b[0mfiltered_tb\u001b[0m \u001b[0;34m=\u001b[0m \u001b[0m_process_traceback_frames\u001b[0m\u001b[0;34m(\u001b[0m\u001b[0me\u001b[0m\u001b[0;34m.\u001b[0m\u001b[0m__traceback__\u001b[0m\u001b[0;34m)\u001b[0m\u001b[0;34m\u001b[0m\u001b[0;34m\u001b[0m\u001b[0m\n",
            "\u001b[0;32m/usr/local/lib/python3.10/dist-packages/keras/engine/training.py\u001b[0m in \u001b[0;36mfit\u001b[0;34m(self, x, y, batch_size, epochs, verbose, callbacks, validation_split, validation_data, shuffle, class_weight, sample_weight, initial_epoch, steps_per_epoch, validation_steps, validation_batch_size, validation_freq, max_queue_size, workers, use_multiprocessing)\u001b[0m\n\u001b[1;32m   1683\u001b[0m                         ):\n\u001b[1;32m   1684\u001b[0m                             \u001b[0mcallbacks\u001b[0m\u001b[0;34m.\u001b[0m\u001b[0mon_train_batch_begin\u001b[0m\u001b[0;34m(\u001b[0m\u001b[0mstep\u001b[0m\u001b[0;34m)\u001b[0m\u001b[0;34m\u001b[0m\u001b[0;34m\u001b[0m\u001b[0m\n\u001b[0;32m-> 1685\u001b[0;31m                             \u001b[0mtmp_logs\u001b[0m \u001b[0;34m=\u001b[0m \u001b[0mself\u001b[0m\u001b[0;34m.\u001b[0m\u001b[0mtrain_function\u001b[0m\u001b[0;34m(\u001b[0m\u001b[0miterator\u001b[0m\u001b[0;34m)\u001b[0m\u001b[0;34m\u001b[0m\u001b[0;34m\u001b[0m\u001b[0m\n\u001b[0m\u001b[1;32m   1686\u001b[0m                             \u001b[0;32mif\u001b[0m \u001b[0mdata_handler\u001b[0m\u001b[0;34m.\u001b[0m\u001b[0mshould_sync\u001b[0m\u001b[0;34m:\u001b[0m\u001b[0;34m\u001b[0m\u001b[0;34m\u001b[0m\u001b[0m\n\u001b[1;32m   1687\u001b[0m                                 \u001b[0mcontext\u001b[0m\u001b[0;34m.\u001b[0m\u001b[0masync_wait\u001b[0m\u001b[0;34m(\u001b[0m\u001b[0;34m)\u001b[0m\u001b[0;34m\u001b[0m\u001b[0;34m\u001b[0m\u001b[0m\n",
            "\u001b[0;32m/usr/local/lib/python3.10/dist-packages/tensorflow/python/util/traceback_utils.py\u001b[0m in \u001b[0;36merror_handler\u001b[0;34m(*args, **kwargs)\u001b[0m\n\u001b[1;32m    148\u001b[0m     \u001b[0mfiltered_tb\u001b[0m \u001b[0;34m=\u001b[0m \u001b[0;32mNone\u001b[0m\u001b[0;34m\u001b[0m\u001b[0;34m\u001b[0m\u001b[0m\n\u001b[1;32m    149\u001b[0m     \u001b[0;32mtry\u001b[0m\u001b[0;34m:\u001b[0m\u001b[0;34m\u001b[0m\u001b[0;34m\u001b[0m\u001b[0m\n\u001b[0;32m--> 150\u001b[0;31m       \u001b[0;32mreturn\u001b[0m \u001b[0mfn\u001b[0m\u001b[0;34m(\u001b[0m\u001b[0;34m*\u001b[0m\u001b[0margs\u001b[0m\u001b[0;34m,\u001b[0m \u001b[0;34m**\u001b[0m\u001b[0mkwargs\u001b[0m\u001b[0;34m)\u001b[0m\u001b[0;34m\u001b[0m\u001b[0;34m\u001b[0m\u001b[0m\n\u001b[0m\u001b[1;32m    151\u001b[0m     \u001b[0;32mexcept\u001b[0m \u001b[0mException\u001b[0m \u001b[0;32mas\u001b[0m \u001b[0me\u001b[0m\u001b[0;34m:\u001b[0m\u001b[0;34m\u001b[0m\u001b[0;34m\u001b[0m\u001b[0m\n\u001b[1;32m    152\u001b[0m       \u001b[0mfiltered_tb\u001b[0m \u001b[0;34m=\u001b[0m \u001b[0m_process_traceback_frames\u001b[0m\u001b[0;34m(\u001b[0m\u001b[0me\u001b[0m\u001b[0;34m.\u001b[0m\u001b[0m__traceback__\u001b[0m\u001b[0;34m)\u001b[0m\u001b[0;34m\u001b[0m\u001b[0;34m\u001b[0m\u001b[0m\n",
            "\u001b[0;32m/usr/local/lib/python3.10/dist-packages/tensorflow/python/eager/polymorphic_function/polymorphic_function.py\u001b[0m in \u001b[0;36m__call__\u001b[0;34m(self, *args, **kwds)\u001b[0m\n\u001b[1;32m    892\u001b[0m \u001b[0;34m\u001b[0m\u001b[0m\n\u001b[1;32m    893\u001b[0m       \u001b[0;32mwith\u001b[0m \u001b[0mOptionalXlaContext\u001b[0m\u001b[0;34m(\u001b[0m\u001b[0mself\u001b[0m\u001b[0;34m.\u001b[0m\u001b[0m_jit_compile\u001b[0m\u001b[0;34m)\u001b[0m\u001b[0;34m:\u001b[0m\u001b[0;34m\u001b[0m\u001b[0;34m\u001b[0m\u001b[0m\n\u001b[0;32m--> 894\u001b[0;31m         \u001b[0mresult\u001b[0m \u001b[0;34m=\u001b[0m \u001b[0mself\u001b[0m\u001b[0;34m.\u001b[0m\u001b[0m_call\u001b[0m\u001b[0;34m(\u001b[0m\u001b[0;34m*\u001b[0m\u001b[0margs\u001b[0m\u001b[0;34m,\u001b[0m \u001b[0;34m**\u001b[0m\u001b[0mkwds\u001b[0m\u001b[0;34m)\u001b[0m\u001b[0;34m\u001b[0m\u001b[0;34m\u001b[0m\u001b[0m\n\u001b[0m\u001b[1;32m    895\u001b[0m \u001b[0;34m\u001b[0m\u001b[0m\n\u001b[1;32m    896\u001b[0m       \u001b[0mnew_tracing_count\u001b[0m \u001b[0;34m=\u001b[0m \u001b[0mself\u001b[0m\u001b[0;34m.\u001b[0m\u001b[0mexperimental_get_tracing_count\u001b[0m\u001b[0;34m(\u001b[0m\u001b[0;34m)\u001b[0m\u001b[0;34m\u001b[0m\u001b[0;34m\u001b[0m\u001b[0m\n",
            "\u001b[0;32m/usr/local/lib/python3.10/dist-packages/tensorflow/python/eager/polymorphic_function/polymorphic_function.py\u001b[0m in \u001b[0;36m_call\u001b[0;34m(self, *args, **kwds)\u001b[0m\n\u001b[1;32m    924\u001b[0m       \u001b[0;31m# In this case we have created variables on the first call, so we run the\u001b[0m\u001b[0;34m\u001b[0m\u001b[0;34m\u001b[0m\u001b[0m\n\u001b[1;32m    925\u001b[0m       \u001b[0;31m# defunned version which is guaranteed to never create variables.\u001b[0m\u001b[0;34m\u001b[0m\u001b[0;34m\u001b[0m\u001b[0m\n\u001b[0;32m--> 926\u001b[0;31m       \u001b[0;32mreturn\u001b[0m \u001b[0mself\u001b[0m\u001b[0;34m.\u001b[0m\u001b[0m_no_variable_creation_fn\u001b[0m\u001b[0;34m(\u001b[0m\u001b[0;34m*\u001b[0m\u001b[0margs\u001b[0m\u001b[0;34m,\u001b[0m \u001b[0;34m**\u001b[0m\u001b[0mkwds\u001b[0m\u001b[0;34m)\u001b[0m  \u001b[0;31m# pylint: disable=not-callable\u001b[0m\u001b[0;34m\u001b[0m\u001b[0;34m\u001b[0m\u001b[0m\n\u001b[0m\u001b[1;32m    927\u001b[0m     \u001b[0;32melif\u001b[0m \u001b[0mself\u001b[0m\u001b[0;34m.\u001b[0m\u001b[0m_variable_creation_fn\u001b[0m \u001b[0;32mis\u001b[0m \u001b[0;32mnot\u001b[0m \u001b[0;32mNone\u001b[0m\u001b[0;34m:\u001b[0m\u001b[0;34m\u001b[0m\u001b[0;34m\u001b[0m\u001b[0m\n\u001b[1;32m    928\u001b[0m       \u001b[0;31m# Release the lock early so that multiple threads can perform the call\u001b[0m\u001b[0;34m\u001b[0m\u001b[0;34m\u001b[0m\u001b[0m\n",
            "\u001b[0;32m/usr/local/lib/python3.10/dist-packages/tensorflow/python/eager/polymorphic_function/tracing_compiler.py\u001b[0m in \u001b[0;36m__call__\u001b[0;34m(self, *args, **kwargs)\u001b[0m\n\u001b[1;32m    141\u001b[0m       (concrete_function,\n\u001b[1;32m    142\u001b[0m        filtered_flat_args) = self._maybe_define_function(args, kwargs)\n\u001b[0;32m--> 143\u001b[0;31m     return concrete_function._call_flat(\n\u001b[0m\u001b[1;32m    144\u001b[0m         filtered_flat_args, captured_inputs=concrete_function.captured_inputs)  # pylint: disable=protected-access\n\u001b[1;32m    145\u001b[0m \u001b[0;34m\u001b[0m\u001b[0m\n",
            "\u001b[0;32m/usr/local/lib/python3.10/dist-packages/tensorflow/python/eager/polymorphic_function/monomorphic_function.py\u001b[0m in \u001b[0;36m_call_flat\u001b[0;34m(self, args, captured_inputs, cancellation_manager)\u001b[0m\n\u001b[1;32m   1755\u001b[0m         and executing_eagerly):\n\u001b[1;32m   1756\u001b[0m       \u001b[0;31m# No tape is watching; skip to running the function.\u001b[0m\u001b[0;34m\u001b[0m\u001b[0;34m\u001b[0m\u001b[0m\n\u001b[0;32m-> 1757\u001b[0;31m       return self._build_call_outputs(self._inference_function.call(\n\u001b[0m\u001b[1;32m   1758\u001b[0m           ctx, args, cancellation_manager=cancellation_manager))\n\u001b[1;32m   1759\u001b[0m     forward_backward = self._select_forward_and_backward_functions(\n",
            "\u001b[0;32m/usr/local/lib/python3.10/dist-packages/tensorflow/python/eager/polymorphic_function/monomorphic_function.py\u001b[0m in \u001b[0;36mcall\u001b[0;34m(self, ctx, args, cancellation_manager)\u001b[0m\n\u001b[1;32m    379\u001b[0m       \u001b[0;32mwith\u001b[0m \u001b[0m_InterpolateFunctionError\u001b[0m\u001b[0;34m(\u001b[0m\u001b[0mself\u001b[0m\u001b[0;34m)\u001b[0m\u001b[0;34m:\u001b[0m\u001b[0;34m\u001b[0m\u001b[0;34m\u001b[0m\u001b[0m\n\u001b[1;32m    380\u001b[0m         \u001b[0;32mif\u001b[0m \u001b[0mcancellation_manager\u001b[0m \u001b[0;32mis\u001b[0m \u001b[0;32mNone\u001b[0m\u001b[0;34m:\u001b[0m\u001b[0;34m\u001b[0m\u001b[0;34m\u001b[0m\u001b[0m\n\u001b[0;32m--> 381\u001b[0;31m           outputs = execute.execute(\n\u001b[0m\u001b[1;32m    382\u001b[0m               \u001b[0mstr\u001b[0m\u001b[0;34m(\u001b[0m\u001b[0mself\u001b[0m\u001b[0;34m.\u001b[0m\u001b[0msignature\u001b[0m\u001b[0;34m.\u001b[0m\u001b[0mname\u001b[0m\u001b[0;34m)\u001b[0m\u001b[0;34m,\u001b[0m\u001b[0;34m\u001b[0m\u001b[0;34m\u001b[0m\u001b[0m\n\u001b[1;32m    383\u001b[0m               \u001b[0mnum_outputs\u001b[0m\u001b[0;34m=\u001b[0m\u001b[0mself\u001b[0m\u001b[0;34m.\u001b[0m\u001b[0m_num_outputs\u001b[0m\u001b[0;34m,\u001b[0m\u001b[0;34m\u001b[0m\u001b[0;34m\u001b[0m\u001b[0m\n",
            "\u001b[0;32m/usr/local/lib/python3.10/dist-packages/tensorflow/python/eager/execute.py\u001b[0m in \u001b[0;36mquick_execute\u001b[0;34m(op_name, num_outputs, inputs, attrs, ctx, name)\u001b[0m\n\u001b[1;32m     50\u001b[0m   \u001b[0;32mtry\u001b[0m\u001b[0;34m:\u001b[0m\u001b[0;34m\u001b[0m\u001b[0;34m\u001b[0m\u001b[0m\n\u001b[1;32m     51\u001b[0m     \u001b[0mctx\u001b[0m\u001b[0;34m.\u001b[0m\u001b[0mensure_initialized\u001b[0m\u001b[0;34m(\u001b[0m\u001b[0;34m)\u001b[0m\u001b[0;34m\u001b[0m\u001b[0;34m\u001b[0m\u001b[0m\n\u001b[0;32m---> 52\u001b[0;31m     tensors = pywrap_tfe.TFE_Py_Execute(ctx._handle, device_name, op_name,\n\u001b[0m\u001b[1;32m     53\u001b[0m                                         inputs, attrs, num_outputs)\n\u001b[1;32m     54\u001b[0m   \u001b[0;32mexcept\u001b[0m \u001b[0mcore\u001b[0m\u001b[0;34m.\u001b[0m\u001b[0m_NotOkStatusException\u001b[0m \u001b[0;32mas\u001b[0m \u001b[0me\u001b[0m\u001b[0;34m:\u001b[0m\u001b[0;34m\u001b[0m\u001b[0;34m\u001b[0m\u001b[0m\n",
            "\u001b[0;31mKeyboardInterrupt\u001b[0m: "
          ]
        }
      ]
    },
    {
      "cell_type": "markdown",
      "source": [
        "# 3. Fusion de modelos"
      ],
      "metadata": {
        "id": "uip2rJGqogfH"
      }
    },
    {
      "cell_type": "markdown",
      "source": [
        "A continuacion la union de los modelos, los resultados son algo peores que con los datos tabulares solo, pero teniendo en cuenta lo mal que nos fue en el modelo de tratamiento de imagenes lo consideramos como aceptable. Seguramente la union de los dos modelos que hemos realizado ignore los resultados de la red de las imagenes ya que despues de la union de los dos modelos hemos puesto mas capas."
      ],
      "metadata": {
        "id": "39d9BsTEd2Ns"
      }
    },
    {
      "cell_type": "code",
      "source": [
        "# definimos la función para entrenar nuestra red con los parámetros deseados\n",
        "def train_mix( learning_rate, lr_decay, batch_size, num_epochs):\n",
        "\n",
        "  # Inizializamos el modelo para imagenes\n",
        "  inputA = Input(shape=(48,48,3))\n",
        "  model_A = Conv2D(128, kernel_size=(3, 3), activation='relu')(inputA)\n",
        "\n",
        "  # Definimos una segunda capa convolucional\n",
        "  model_A = Conv2D(128, kernel_size=(3, 3), activation='relu')(model_A)\n",
        "\n",
        "  # Definimos una tercera capa convolucional\n",
        "  model_A = Conv2D(128, kernel_size=(3, 3), activation='relu')(model_A)\n",
        "\n",
        "  # Añadimos nuestro clasificador\n",
        "  model_A = Flatten()(model_A)\n",
        "  model_A = Dense(64, activation='relu')(model_A)\n",
        "  model_A = Dense(32, activation='relu')(model_A)\n",
        "  model_A = Model(inputs=inputA, outputs=model_A)\n",
        "\n",
        "\n",
        "\n",
        "\n",
        "  # IInizializamos modelo para datos tabulares\n",
        "  inputB = Input(shape=(24,))\n",
        "  model_B = Flatten()(inputB)\n",
        "  model_B = Dense(20, activation=\"relu\")(model_B)\n",
        "  model_B = Dense(10, activation=\"relu\")(model_B)\n",
        "  model_B = Model(inputs=inputB, outputs=model_B)\n",
        "\n",
        "  # Unimos\n",
        "  combined = concatenate([model_A.output, model_B.output])\n",
        "  #Y añadimos mas capas antes de dar la prediccion\n",
        "  # apply a FC layer and then a regression prediction on the\n",
        "  # combined outputs\n",
        "  z = Dense(21, activation=\"relu\")(combined)\n",
        "  z = Dense(7, activation=\"relu\")(combined)\n",
        "  z = Dense(3, activation=\"softmax\")(z)\n",
        "  # our model will accept the inputs of the two branches and\n",
        "  # then output a single value\n",
        "  model = Model(inputs=[model_A.input, model_B.input], outputs=z)\n",
        "\n",
        "\n",
        "\n",
        "  # Compilamos y entrenamos el modelo SGD\n",
        "  print(\"[INFO]: Entrenando red neuronal...\")\n",
        "  opt = tf.keras.optimizers.SGD(learning_rate=learning_rate)\n",
        "  model.compile(loss='categorical_crossentropy', optimizer=opt,metrics=['accuracy'])\n",
        "\n",
        "\n",
        "  # entrenamos el modelo\n",
        "  H = model.fit( [X_train_resized,data_train_x], y_train, batch_size=batch_size, validation_data=([X_val_resized,data_val_x], y_val), epochs=num_epochs)\n",
        "  # Evaluando el modelo de predicción con las imágenes de test\n",
        "  print(\"[INFO]: Evaluando red neuronal...\")\n",
        "  predictions = model.predict([X_test_resized,data_test_x], batch_size=batch_size)\n",
        "  y_test_labels = np.argmax(y_test, axis=1)\n",
        "  predictions_labels = np.argmax(predictions, axis=1)\n",
        "  print(classification_report(y_test_labels, predictions_labels))\n",
        "\n",
        "\n",
        "  # Muestro gráfica de accuracy y losses\n",
        "  plt.style.use(\"ggplot\")\n",
        "  plt.figure()\n",
        "  plt.plot(np.arange(0, num_epochs), H.history[\"loss\"], label=\"train_loss\")\n",
        "  plt.plot(np.arange(0, num_epochs), H.history[\"val_loss\"], label=\"val_loss\")\n",
        "  plt.plot(np.arange(0, num_epochs), H.history[\"accuracy\"], label=\"train_acc\")\n",
        "  plt.plot(np.arange(0, num_epochs), H.history[\"val_accuracy\"], label=\"val_acc\")\n",
        "  plt.title(\"Training Loss and Accuracy\")\n",
        "  plt.xlabel(\"Epoch #\")\n",
        "  plt.ylabel(\"Loss/Accuracy\")\n",
        "  plt.legend()"
      ],
      "metadata": {
        "id": "XODtQAhvos_m"
      },
      "execution_count": null,
      "outputs": []
    },
    {
      "cell_type": "code",
      "source": [
        "learning_rate = 0.2\n",
        "lr_decay = 1e-3\n",
        "num_epochs = 20\n",
        "batch_size = 128\n",
        "train_mix( learning_rate,lr_decay, batch_size, num_epochs)"
      ],
      "metadata": {
        "colab": {
          "base_uri": "https://localhost:8080/",
          "height": 1000
        },
        "id": "KzUq17X50NfO",
        "outputId": "f1c15239-7237-41e1-d12c-8531933f2d89"
      },
      "execution_count": null,
      "outputs": [
        {
          "output_type": "stream",
          "name": "stdout",
          "text": [
            "[INFO]: Entrenando red neuronal...\n",
            "Epoch 1/20\n",
            "9/9 [==============================] - 65s 7s/step - loss: 1.0900 - accuracy: 0.4522 - val_loss: 1.0447 - val_accuracy: 0.5049\n",
            "Epoch 2/20\n",
            "9/9 [==============================] - 63s 7s/step - loss: 1.0225 - accuracy: 0.5113 - val_loss: 0.9685 - val_accuracy: 0.5588\n",
            "Epoch 3/20\n",
            "9/9 [==============================] - 63s 7s/step - loss: 0.9435 - accuracy: 0.5348 - val_loss: 0.8810 - val_accuracy: 0.5490\n",
            "Epoch 4/20\n",
            "9/9 [==============================] - 64s 7s/step - loss: 0.8754 - accuracy: 0.5609 - val_loss: 0.8331 - val_accuracy: 0.5490\n",
            "Epoch 5/20\n",
            "9/9 [==============================] - 64s 7s/step - loss: 0.8418 - accuracy: 0.5913 - val_loss: 0.8044 - val_accuracy: 0.6422\n",
            "Epoch 6/20\n",
            "9/9 [==============================] - 65s 7s/step - loss: 0.8203 - accuracy: 0.6235 - val_loss: 0.7878 - val_accuracy: 0.6275\n",
            "Epoch 7/20\n",
            "9/9 [==============================] - 63s 7s/step - loss: 0.8064 - accuracy: 0.6061 - val_loss: 0.7793 - val_accuracy: 0.6422\n",
            "Epoch 8/20\n",
            "9/9 [==============================] - 65s 7s/step - loss: 0.7982 - accuracy: 0.6087 - val_loss: 0.7724 - val_accuracy: 0.6471\n",
            "Epoch 9/20\n",
            "9/9 [==============================] - 64s 7s/step - loss: 0.7934 - accuracy: 0.6148 - val_loss: 0.7727 - val_accuracy: 0.6373\n",
            "Epoch 10/20\n",
            "9/9 [==============================] - 64s 7s/step - loss: 0.7924 - accuracy: 0.6139 - val_loss: 0.7629 - val_accuracy: 0.6471\n",
            "Epoch 11/20\n",
            "9/9 [==============================] - 64s 7s/step - loss: 0.7876 - accuracy: 0.6130 - val_loss: 0.7679 - val_accuracy: 0.6275\n",
            "Epoch 12/20\n",
            "9/9 [==============================] - 65s 7s/step - loss: 0.7852 - accuracy: 0.6183 - val_loss: 0.7547 - val_accuracy: 0.6471\n",
            "Epoch 13/20\n",
            "9/9 [==============================] - 64s 7s/step - loss: 0.7836 - accuracy: 0.6148 - val_loss: 0.7568 - val_accuracy: 0.6471\n",
            "Epoch 14/20\n",
            "9/9 [==============================] - 63s 7s/step - loss: 0.7815 - accuracy: 0.6148 - val_loss: 0.7571 - val_accuracy: 0.6324\n",
            "Epoch 15/20\n",
            "9/9 [==============================] - 66s 7s/step - loss: 0.7786 - accuracy: 0.6243 - val_loss: 0.7540 - val_accuracy: 0.6471\n",
            "Epoch 16/20\n",
            "9/9 [==============================] - 65s 7s/step - loss: 0.7784 - accuracy: 0.6183 - val_loss: 0.7531 - val_accuracy: 0.6324\n",
            "Epoch 17/20\n",
            "9/9 [==============================] - 65s 7s/step - loss: 0.7770 - accuracy: 0.6252 - val_loss: 0.7515 - val_accuracy: 0.6569\n",
            "Epoch 18/20\n",
            "9/9 [==============================] - 64s 7s/step - loss: 0.7712 - accuracy: 0.6226 - val_loss: 0.7534 - val_accuracy: 0.6520\n",
            "Epoch 19/20\n",
            "9/9 [==============================] - 63s 7s/step - loss: 0.7665 - accuracy: 0.6313 - val_loss: 0.7494 - val_accuracy: 0.6520\n",
            "Epoch 20/20\n",
            "9/9 [==============================] - 64s 7s/step - loss: 0.7596 - accuracy: 0.6409 - val_loss: 0.7918 - val_accuracy: 0.6078\n",
            "[INFO]: Evaluando red neuronal...\n",
            "2/2 [==============================] - 3s 2s/step\n",
            "              precision    recall  f1-score   support\n",
            "\n",
            "           0       0.75      0.97      0.85        89\n",
            "           1       0.43      0.37      0.40        71\n",
            "           2       0.65      0.53      0.58        79\n",
            "\n",
            "    accuracy                           0.64       239\n",
            "   macro avg       0.61      0.62      0.61       239\n",
            "weighted avg       0.62      0.64      0.63       239\n",
            "\n"
          ]
        },
        {
          "output_type": "display_data",
          "data": {
            "text/plain": [
              "<Figure size 640x480 with 1 Axes>"
            ],
            "image/png": "[encoded data removed]"
          },
          "metadata": {}
        }
      ]
    }
  ]
}